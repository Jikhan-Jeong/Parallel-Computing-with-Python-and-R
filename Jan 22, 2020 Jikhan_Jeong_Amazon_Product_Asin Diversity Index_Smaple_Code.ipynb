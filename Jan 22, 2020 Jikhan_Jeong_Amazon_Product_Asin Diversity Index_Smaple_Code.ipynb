{
 "cells": [
  {
   "cell_type": "markdown",
   "metadata": {},
   "source": [
    "----\n",
    "### Jan 22, 2020 part 8-4 Reviewers' product level diversity Index with Multicore and Dask Demo Code for the public.\n",
    "----\n",
    "* Name: Jikhan Jeong\n",
    "* I have tried to measure consumer preference by using their digital foot-prient and review text by using econometrics and deep learning (=NLP)\n",
    "* This is a simple demo code to get one of the variables from structured data. Total variables is around 200 variables for structured data\n",
    "* However review data is text data so that in terms of NLP, the matrix for review text can be sparse, dense, and context-dense.\n",
    "* This is demo code for showing how it works so that I just show simple example. (This is the one of the simplest computation)\n",
    "* $\\bigstar$ due to the time consumption compared to necessary, even though coding is ok, I stop it in here.\n",
    "* This file will just be used as a smaple code for the general.\n",
    "* The full code of origianl independent JMP will be uploaded before JMC to prove the validity of process and data, academic intergrity, and originality of ideas \n",
    "----"
   ]
  },
  {
   "cell_type": "code",
   "execution_count": 1,
   "metadata": {},
   "outputs": [
    {
     "name": "stdout",
     "output_type": "stream",
     "text": [
      "/data/cahnrs/jikhan.jeong/amazon\n"
     ]
    }
   ],
   "source": [
    "!pwd"
   ]
  },
  {
   "cell_type": "markdown",
   "metadata": {},
   "source": [
    "---\n",
    "# Pre-Defined Functions\n",
    "---"
   ]
  },
  {
   "cell_type": "code",
   "execution_count": 9,
   "metadata": {},
   "outputs": [],
   "source": [
    "import pandas as pd\n",
    "import numpy as np"
   ]
  },
  {
   "cell_type": "code",
   "execution_count": 2,
   "metadata": {},
   "outputs": [],
   "source": [
    "# sorting by review time and reindex : for review_meta_in_pro_st_only: the first review of reviewers wrote a review on programmable thermostats without missing values in brand and price.\n",
    "def sort_by_time_reindex(df):\n",
    "    df.sort_values(by=['reviewTime'], inplace = True)\n",
    "    df = df.reset_index(drop=True)\n",
    "    return df"
   ]
  },
  {
   "cell_type": "code",
   "execution_count": 3,
   "metadata": {},
   "outputs": [],
   "source": [
    "# summary of dataframe\n",
    "def sum_df(df):\n",
    "    print('type', type(df))\n",
    "    print('shape', df.shape)"
   ]
  },
  {
   "cell_type": "code",
   "execution_count": 4,
   "metadata": {},
   "outputs": [],
   "source": [
    "# sorting by reviewer, reviewTime, and reindex | df = all_the_review_meta_frm_pt_reviewer\n",
    "def sort_by_reviewer_time_reindex(df):\n",
    "    df.sort_values(by=['reviewerID','reviewTime'], inplace = True)\n",
    "    df = df.reset_index(drop=True)\n",
    "    return df"
   ]
  },
  {
   "cell_type": "code",
   "execution_count": 5,
   "metadata": {},
   "outputs": [],
   "source": [
    "# The sum of reviews in each unique asin by user and times unitl t-1 | diversity index, among 124368 unqiue asin \n",
    "# df = cleaned_sub_cate_price_all\n",
    "# user = A2VIFZ0H7XCKP1, time = we can sum of t-1  '2005-10-12'   , sub_cate_list(pre-defined)\n",
    "# Sharnon Index: Ref: https://en.wikipedia.org/wiki/Diversity_index\n",
    "\n",
    "def sub_asin_sum_and_diversity_by_user_time(df, user, time): # df =cleaned_sub_cate_price_all, user =, time=, cate_list = u_asin_list (= unique_value_list(cleaned_sub_cate_price_all,'asin'))\n",
    "    \n",
    "    df = sort_by_reviewer_time_reindex(df)\n",
    "    u_asin_list = unique_value_list(df,'asin') # 124368 unique list \n",
    "    \n",
    "    em_df = pd.DataFrame({'reviewerID': [user],'reviewTime':[time]})\n",
    "    \n",
    "    n=0\n",
    "    \n",
    "    for i in u_asin_list:\n",
    "        \n",
    "        em_df['sum_{}'.format(i)] =  len(df[(df['reviewerID'] == user) & (df['reviewTime'] < time) & (df['asin'] == i)])\n",
    "        \n",
    "        if n% 1000 ==0:\n",
    "            print('first loop', n)\n",
    "        n+=1\n",
    "        \n",
    "    total = 0\n",
    "    \n",
    "    for i in range(2, em_df.shape[1]): #shape[1] column\n",
    "        total += em_df.iloc[:,i]\n",
    "        if i% 1000 ==0:\n",
    "            print('second loop', i)\n",
    "        \n",
    "    p=0.0\n",
    "    h=0.0\n",
    "    \n",
    "    for i in range(2, em_df.shape[1]):\n",
    "        p = float(em_df.iloc[:,i]/total)\n",
    "        if  p == 0.0:\n",
    "             h += 0\n",
    "        elif p > 0.0: \n",
    "             h += -1*p*np.log(p) # add +1 for -inf case, log is natural logrithm\n",
    "                \n",
    "    em_df['asin_diversity'] = h  # this is the category diversity index for reviewer at time t considering t-1 reviews  \n",
    "    em_df['cum_review_t-1'] = total # cumulative review of reviewer i until t-1 in all categories \n",
    "    sum_df(em_df)\n",
    "    return em_df\n",
    "# eg. test = sub_asin_sum_and_diversity_by_user_time(cleaned_sub_cate_price_all,'A0191512Q2Z9IPUAE2RZ', '2014-06-26')\n"
   ]
  },
  {
   "cell_type": "code",
   "execution_count": 6,
   "metadata": {},
   "outputs": [],
   "source": [
    "# (Need to do) Dic {reivwer : time dictionary from dataframe} from using review_meta_in_pro_st_onl\n",
    "# eg. dic_reviewer_time = review_meta_in_pro_st_only.set_index('reviewerID')['reviewTime'].to_dict()\n",
    "def dictionary_for_reviewer_time(df): #df = review_meta_in_pro_st_only\n",
    "    dic = df.set_index('reviewerID')['reviewTime'].to_dict()\n",
    "    return dic\n",
    "# eg. dic_reviewer_time = dictionary_for_reviewer_time(review_meta_in_pro_st_only)\n",
    "\n",
    "# reviewer_time_df = review_meta_in_pro_st_only, sub_category_all_df = sub_cate_all, sub_category_list = sub_cate_list"
   ]
  },
  {
   "cell_type": "code",
   "execution_count": 7,
   "metadata": {},
   "outputs": [],
   "source": [
    "# list of uniqule value in column value in pd.dataframe\n",
    "def unique_value_list(df, var):\n",
    "    u_list = df[var].unique()\n",
    "    u_list = sorted(u_list)\n",
    "    return u_list \n",
    "# Eg. unique_value_list(cleaned_sub_cate_price_rate_asin_anlz_brand,'asin') "
   ]
  },
  {
   "cell_type": "code",
   "execution_count": 8,
   "metadata": {},
   "outputs": [],
   "source": [
    "# (Need to do)\n",
    "def concate_df_and_asin_analysis(reviewer_time_df, sub_category_all_df):\n",
    "    n=0\n",
    "    em_list =[]\n",
    "    dic_reviewer_time  = dictionary_for_reviewer_time(reviewer_time_df)\n",
    "    for i, time in dic_reviewer_time.items():\n",
    "        print(i)\n",
    "        new_df =  sub_cate_sum_and_diversity_by_user_time(sub_category_all_df, i, time)\n",
    "        em_list.append(new_df)\n",
    "       \n",
    "        if n% 1000 ==0:\n",
    "            print(n)\n",
    "        n+=1\n",
    "    asin_analysis_df = pd.concat(em_list)\n",
    "    # df = pd.merge(reviewer_time_df,cate_analysis_df, how='left', on='reviewerID')\n",
    "    return asin_analysis_df    \n",
    "# asin_analysis_df = concate_df_and_cate_analysis(cleaned_sub_cate_price_rate_asin_anlz_brand_pt, cleaned_sub_cate_price_all)"
   ]
  },
  {
   "cell_type": "markdown",
   "metadata": {},
   "source": [
    "---\n",
    "# Loading Data: Pandas\n",
    "---"
   ]
  },
  {
   "cell_type": "code",
   "execution_count": 10,
   "metadata": {},
   "outputs": [
    {
     "name": "stdout",
     "output_type": "stream",
     "text": [
      "type <class 'pandas.core.frame.DataFrame'>\n",
      "shape (185514, 55)\n"
     ]
    }
   ],
   "source": [
    "cleaned_sub_cate_price_all = pd.read_csv('jan_18_2020_cleaned_sub_cate_price_all', index_col=[0])\n",
    "sum_df(cleaned_sub_cate_price_all)"
   ]
  },
  {
   "cell_type": "code",
   "execution_count": 11,
   "metadata": {},
   "outputs": [
    {
     "name": "stdout",
     "output_type": "stream",
     "text": [
      "type <class 'pandas.core.frame.DataFrame'>\n",
      "shape (6724, 198)\n"
     ]
    }
   ],
   "source": [
    "cleaned_sub_cate_price_rate_asin_anlz_brand_pt = pd.read_csv('01_21_2020_cleaned_sub_cate_price_rate_asin_anlz_brand_pt.csv', index_col=[0])\n",
    "sum_df(cleaned_sub_cate_price_rate_asin_anlz_brand_pt)"
   ]
  },
  {
   "cell_type": "markdown",
   "metadata": {},
   "source": [
    "---\n",
    "# Single Reviewer Example Demo: 3 hours\n",
    "* It must be efficiently coded for heavy computation\n",
    "---"
   ]
  },
  {
   "cell_type": "code",
   "execution_count": null,
   "metadata": {},
   "outputs": [],
   "source": [
    "# Demo for just one reviewer (1, 124372)\n",
    "%%time\n",
    "test = sub_asin_sum_and_diversity_by_user_time(cleaned_review_small ,'A2VIFZ0H7XCKP1', '2005-10-12') # 124,368\n",
    "# need to check the last column values: df.iloc[:-1]"
   ]
  },
  {
   "cell_type": "markdown",
   "metadata": {},
   "source": [
    "---\n",
    "# <font color ='blue'> Part 1: Multicore-Processing with pandas dataframe\n",
    "* Ref: https://stackoverflow.com/questions/45545110/how-do-you-parallelize-apply-on-pandas-dataframes-making-use-of-all-cores-on-o\n",
    "* Ref:https://www.machinelearningplus.com/python/parallel-processing-python/\n",
    "* Ref:http://blog.adeel.io/2016/11/06/parallelize-pandas-map-or-apply/ (def parallelize(data,func)) \n",
    "---"
   ]
  },
  {
   "cell_type": "code",
   "execution_count": 62,
   "metadata": {},
   "outputs": [
    {
     "name": "stdout",
     "output_type": "stream",
     "text": [
      "Number of processors: 24\n"
     ]
    }
   ],
   "source": [
    "import multiprocessing as mp\n",
    "from multiprocessing import cpu_count\n",
    "print(\"Number of processors:\", mp.cpu_count())"
   ]
  },
  {
   "cell_type": "code",
   "execution_count": 65,
   "metadata": {},
   "outputs": [
    {
     "data": {
      "text/plain": [
       "24"
      ]
     },
     "execution_count": 65,
     "metadata": {},
     "output_type": "execute_result"
    }
   ],
   "source": [
    "cores = cpu_count() #Number of CPU cores on your system\n",
    "partitions = cores\n",
    "partitions"
   ]
  },
  {
   "cell_type": "code",
   "execution_count": 64,
   "metadata": {},
   "outputs": [],
   "source": [
    "def parallelize(data, func):\n",
    "    data_split = np.array_split(data, partitions)\n",
    "    pool = mp.Pool(mp.cpu_count())\n",
    "    data = pd.concat(pool.map(func, data_split),  ignore_index=False)\n",
    "    pool.close()\n",
    "    pool.join()\n",
    "    return data\n",
    "# df = parallelize(df, func)"
   ]
  },
  {
   "cell_type": "code",
   "execution_count": 16,
   "metadata": {},
   "outputs": [
    {
     "name": "stdout",
     "output_type": "stream",
     "text": [
      "cleaned reviewers: 6724\n"
     ]
    }
   ],
   "source": [
    "dic_reviewer_time = dictionary_for_reviewer_time(cleaned_sub_cate_price_rate_asin_anlz_brand_pt)\n",
    "print('cleaned reviewers:', len(dic_reviewer_time))"
   ]
  },
  {
   "cell_type": "code",
   "execution_count": 17,
   "metadata": {},
   "outputs": [
    {
     "name": "stdout",
     "output_type": "stream",
     "text": [
      "type <class 'pandas.core.frame.DataFrame'>\n",
      "shape (185514, 55)\n"
     ]
    }
   ],
   "source": [
    "cleaned_sub_cate_price_all = sort_by_reviewer_time_reindex(cleaned_sub_cate_price_all)\n",
    "sum_df(cleaned_sub_cate_price_all)"
   ]
  },
  {
   "cell_type": "code",
   "execution_count": 18,
   "metadata": {},
   "outputs": [
    {
     "name": "stdout",
     "output_type": "stream",
     "text": [
      "The number of unique product in cleaned 6724 reviewers:  124368\n"
     ]
    }
   ],
   "source": [
    "u_asin_list = unique_value_list(cleaned_sub_cate_price_all,'asin') \n",
    "print('The number of unique product in cleaned 6724 reviewers: ', len(u_asin_list))"
   ]
  },
  {
   "cell_type": "code",
   "execution_count": 20,
   "metadata": {},
   "outputs": [
    {
     "name": "stdout",
     "output_type": "stream",
     "text": [
      "type <class 'pandas.core.frame.DataFrame'>\n",
      "shape (6724, 2)\n"
     ]
    }
   ],
   "source": [
    "clean_id_time = cleaned_sub_cate_price_rate_asin_anlz_brand_pt[['reviewerID', 'reviewTime']]\n",
    "sum_df(clean_id_time)"
   ]
  },
  {
   "cell_type": "code",
   "execution_count": 21,
   "metadata": {},
   "outputs": [
    {
     "name": "stdout",
     "output_type": "stream",
     "text": [
      "type <class 'pandas.core.frame.DataFrame'>\n",
      "shape (185514, 3)\n"
     ]
    }
   ],
   "source": [
    "cleaned_review_small = cleaned_sub_cate_price_all[['reviewerID', 'reviewTime','asin']]\n",
    "sum_df(cleaned_review_small)"
   ]
  },
  {
   "cell_type": "markdown",
   "metadata": {},
   "source": [
    "---\n",
    "# <font color = blue> Efficient computing for high-dimensional big data for diversity index for asin\n",
    "---\n",
    "* reduce the original dataframe with only required low: clean_id_time(=6724 reviewer list and time of the first review on the programmable thermostat), cleaned_sub_cate_price_small)\n",
    "* DF1: **clean_id_time**(=6724,2) :  reviewer list and time of the first review on the programmable thermostat)\n",
    "* DF2: **cleaned_review_small**(=185514, 3): cleaned reviews without missing values in price and brand\n",
    "* option1 : split into cores and multicoreprocess\n",
    "* option2 : dask dataframe work\n",
    "* option3 : using more cores with big-memories\n",
    "---"
   ]
  },
  {
   "cell_type": "code",
   "execution_count": 22,
   "metadata": {},
   "outputs": [],
   "source": [
    "# adjust for multi_core_process_diversity_index\n",
    "# multi_core_asin_di(clean_id_time) \n",
    "def multi_core_asin_di(df): # df = clean_id_time, -> tun to be  dic = dic_reviewer_time\n",
    "    \n",
    "    dic = dictionary_for_reviewer_time(df)\n",
    "    person  = 0\n",
    "    em_list =[]\n",
    "    \n",
    "    # u_asin_list # = unique_value_list(df,'asin') # 124368 unique list \n",
    "       \n",
    "    for user, time in dic.items():\n",
    "        print(user, time)\n",
    "        \n",
    "        em_df = pd.DataFrame({'reviewerID': [user],'reviewTime':[time]})\n",
    "            \n",
    "        n=0\n",
    "        \n",
    "        for i in u_asin_list:\n",
    "        \n",
    "            em_df['sum_{}'.format(i)] =  len(cleaned_review_small[(cleaned_review_small['reviewerID'] == user) & (cleaned_review_small['reviewTime'] < time) & (cleaned_review_small['asin'] == i)])\n",
    "        \n",
    "            if n% 1000 ==0:\n",
    "                print('first loop for {}'.format(user), n)\n",
    "            n+=1\n",
    "        \n",
    "        \n",
    "        total = 0\n",
    "    \n",
    "        for i in range(2, em_df.shape[1]): #shape[1] column\n",
    "            total += em_df.iloc[:,i]\n",
    "            if i% 1000 ==0:\n",
    "                 print('second loop', i)\n",
    "        \n",
    "        p=0.0\n",
    "        h=0.0\n",
    "    \n",
    "        for i in range(2, em_df.shape[1]):\n",
    "            p = float(em_df.iloc[:,i]/total)\n",
    "            if  p == 0.0:\n",
    "                h += 0\n",
    "            elif p > 0.0: \n",
    "                 h += -1*p*np.log(p) # add +1 for -inf case, log is natural logrithm\n",
    "                \n",
    "        em_df['asin_diversity'] = h  # this is the category diversity index for reviewer at time t considering t-1 reviews  \n",
    "        em_df['cum_review_t-1'] = total \n",
    "        em_list.append(em_df)\n",
    "       \n",
    "        if person% 1000 ==0:\n",
    "            print(person)\n",
    "        person+=1\n",
    "        \n",
    "    asin_analysis_df = pd.concat(em_list)\n",
    "    # df = pd.merge(reviewer_time_df,cate_analysis_df, how='left', on='reviewerID')\n",
    "    return asin_analysis_df    "
   ]
  },
  {
   "cell_type": "code",
   "execution_count": 35,
   "metadata": {},
   "outputs": [
    {
     "data": {
      "text/html": [
       "<div>\n",
       "<style scoped>\n",
       "    .dataframe tbody tr th:only-of-type {\n",
       "        vertical-align: middle;\n",
       "    }\n",
       "\n",
       "    .dataframe tbody tr th {\n",
       "        vertical-align: top;\n",
       "    }\n",
       "\n",
       "    .dataframe thead th {\n",
       "        text-align: right;\n",
       "    }\n",
       "</style>\n",
       "<table border=\"1\" class=\"dataframe\">\n",
       "  <thead>\n",
       "    <tr style=\"text-align: right;\">\n",
       "      <th></th>\n",
       "      <th>reviewerID</th>\n",
       "      <th>reviewTime</th>\n",
       "    </tr>\n",
       "  </thead>\n",
       "  <tbody>\n",
       "    <tr>\n",
       "      <td>0</td>\n",
       "      <td>AVHZP1NAWPLD9</td>\n",
       "      <td>2005-03-14</td>\n",
       "    </tr>\n",
       "    <tr>\n",
       "      <td>1</td>\n",
       "      <td>ANRXH0BVEAR6B</td>\n",
       "      <td>2005-07-19</td>\n",
       "    </tr>\n",
       "    <tr>\n",
       "      <td>2</td>\n",
       "      <td>A2VIFZ0H7XCKP1</td>\n",
       "      <td>2005-10-12</td>\n",
       "    </tr>\n",
       "    <tr>\n",
       "      <td>3</td>\n",
       "      <td>A1RPXPCEY07ODW</td>\n",
       "      <td>2005-11-08</td>\n",
       "    </tr>\n",
       "    <tr>\n",
       "      <td>4</td>\n",
       "      <td>AQVO6SZI2027K</td>\n",
       "      <td>2005-11-12</td>\n",
       "    </tr>\n",
       "  </tbody>\n",
       "</table>\n",
       "</div>"
      ],
      "text/plain": [
       "       reviewerID  reviewTime\n",
       "0   AVHZP1NAWPLD9  2005-03-14\n",
       "1   ANRXH0BVEAR6B  2005-07-19\n",
       "2  A2VIFZ0H7XCKP1  2005-10-12\n",
       "3  A1RPXPCEY07ODW  2005-11-08\n",
       "4   AQVO6SZI2027K  2005-11-12"
      ]
     },
     "execution_count": 35,
     "metadata": {},
     "output_type": "execute_result"
    }
   ],
   "source": [
    "# Demo for small set\n",
    "clean_id_time.head(5)"
   ]
  },
  {
   "cell_type": "code",
   "execution_count": null,
   "metadata": {},
   "outputs": [],
   "source": [
    "# 6724 x 3 times /24 = days requires, allocating many node as possible \n",
    "asin_analysis_df = parallelize(clean_id_time.head(20), multi_core_asin_di)"
   ]
  },
  {
   "cell_type": "markdown",
   "metadata": {},
   "source": [
    "---\n",
    "# <font color = blue> Part2 Dask Version\n",
    "---\n",
    "* DF1: clean_id_time_dd\n",
    "* DF2: cleaned_review_small_dd: \n",
    "* Ref: https://docs.dask.org/en/latest/install.html (conda install dask)\n",
    "* Ref; https://datascienceschool.net/view-notebook/2282b75b2a63448087b77269885c27cb/ (Korean)\n",
    "* Ref: https://towardsdatascience.com/trying-out-dask-dataframes-in-python-for-fast-data-analysis-in-parallel-aa960c18a915 (English)\n",
    "---"
   ]
  },
  {
   "cell_type": "code",
   "execution_count": 42,
   "metadata": {},
   "outputs": [],
   "source": [
    "import dask.dataframe as dd\n",
    "from dask.multiprocessing import get\n",
    "from dask.diagnostics import ProgressBar # for operation process notation\n",
    "pbar = ProgressBar()\n",
    "pbar.register()"
   ]
  },
  {
   "cell_type": "markdown",
   "metadata": {},
   "source": [
    "---\n",
    "### change it to pandas dataframe to dask dataframe\n",
    "---"
   ]
  },
  {
   "cell_type": "code",
   "execution_count": 28,
   "metadata": {},
   "outputs": [
    {
     "data": {
      "text/plain": [
       "dask.dataframe.core.DataFrame"
      ]
     },
     "execution_count": 28,
     "metadata": {},
     "output_type": "execute_result"
    }
   ],
   "source": [
    "clean_id_time_dd = dd.from_pandas(clean_id_time, npartitions=1)\n",
    "type(clean_id_time_dd)"
   ]
  },
  {
   "cell_type": "code",
   "execution_count": 35,
   "metadata": {},
   "outputs": [
    {
     "name": "stdout",
     "output_type": "stream",
     "text": [
      "[########################################] | 100% Completed |  0.1s\n"
     ]
    },
    {
     "data": {
      "text/plain": [
       "6724"
      ]
     },
     "execution_count": 35,
     "metadata": {},
     "output_type": "execute_result"
    }
   ],
   "source": [
    "len(clean_id_time_dd)"
   ]
  },
  {
   "cell_type": "code",
   "execution_count": 29,
   "metadata": {},
   "outputs": [
    {
     "data": {
      "text/plain": [
       "dask.dataframe.core.DataFrame"
      ]
     },
     "execution_count": 29,
     "metadata": {},
     "output_type": "execute_result"
    }
   ],
   "source": [
    "cleaned_review_small_dd = dd.from_pandas(cleaned_review_small, npartitions=1)\n",
    "type(cleaned_review_small_dd)"
   ]
  },
  {
   "cell_type": "code",
   "execution_count": 36,
   "metadata": {},
   "outputs": [
    {
     "name": "stdout",
     "output_type": "stream",
     "text": [
      "[########################################] | 100% Completed |  0.1s\n"
     ]
    },
    {
     "data": {
      "text/plain": [
       "185514"
      ]
     },
     "execution_count": 36,
     "metadata": {},
     "output_type": "execute_result"
    }
   ],
   "source": [
    "len(cleaned_review_small_dd )"
   ]
  },
  {
   "cell_type": "markdown",
   "metadata": {},
   "source": [
    "---\n",
    "### check functional level operation with dask\n",
    "---"
   ]
  },
  {
   "cell_type": "code",
   "execution_count": 39,
   "metadata": {},
   "outputs": [
    {
     "name": "stdout",
     "output_type": "stream",
     "text": [
      "[########################################] | 100% Completed |  0.1s\n"
     ]
    },
    {
     "data": {
      "text/plain": [
       "{'AVHZP1NAWPLD9': '2005-03-14'}"
      ]
     },
     "execution_count": 39,
     "metadata": {},
     "output_type": "execute_result"
    }
   ],
   "source": [
    "dictionary_for_reviewer_time(clean_id_time_dd.head(1))"
   ]
  },
  {
   "cell_type": "code",
   "execution_count": 41,
   "metadata": {},
   "outputs": [
    {
     "name": "stdout",
     "output_type": "stream",
     "text": [
      "[########################################] | 100% Completed |  0.1s\n"
     ]
    },
    {
     "data": {
      "text/html": [
       "<div>\n",
       "<style scoped>\n",
       "    .dataframe tbody tr th:only-of-type {\n",
       "        vertical-align: middle;\n",
       "    }\n",
       "\n",
       "    .dataframe tbody tr th {\n",
       "        vertical-align: top;\n",
       "    }\n",
       "\n",
       "    .dataframe thead th {\n",
       "        text-align: right;\n",
       "    }\n",
       "</style>\n",
       "<table border=\"1\" class=\"dataframe\">\n",
       "  <thead>\n",
       "    <tr style=\"text-align: right;\">\n",
       "      <th></th>\n",
       "      <th>reviewerID</th>\n",
       "      <th>reviewTime</th>\n",
       "    </tr>\n",
       "  </thead>\n",
       "  <tbody>\n",
       "    <tr>\n",
       "      <td>0</td>\n",
       "      <td>jikhan</td>\n",
       "      <td>Jan-24</td>\n",
       "    </tr>\n",
       "  </tbody>\n",
       "</table>\n",
       "</div>"
      ],
      "text/plain": [
       "  reviewerID reviewTime\n",
       "0     jikhan     Jan-24"
      ]
     },
     "execution_count": 41,
     "metadata": {},
     "output_type": "execute_result"
    }
   ],
   "source": [
    "em_df = pd.DataFrame({'reviewerID': ['jikhan'],'reviewTime':['Jan-24']})\n",
    "em_df = dd.from_pandas(em_df, npartitions=1)   \n",
    "em_df.compute()"
   ]
  },
  {
   "cell_type": "code",
   "execution_count": 48,
   "metadata": {},
   "outputs": [
    {
     "data": {
      "text/html": [
       "<div>\n",
       "<style scoped>\n",
       "    .dataframe tbody tr th:only-of-type {\n",
       "        vertical-align: middle;\n",
       "    }\n",
       "\n",
       "    .dataframe tbody tr th {\n",
       "        vertical-align: top;\n",
       "    }\n",
       "\n",
       "    .dataframe thead th {\n",
       "        text-align: right;\n",
       "    }\n",
       "</style>\n",
       "<table border=\"1\" class=\"dataframe\">\n",
       "  <thead>\n",
       "    <tr style=\"text-align: right;\">\n",
       "      <th></th>\n",
       "      <th>reviewerID</th>\n",
       "      <th>reviewTime</th>\n",
       "      <th>asin</th>\n",
       "    </tr>\n",
       "  </thead>\n",
       "  <tbody>\n",
       "    <tr>\n",
       "      <td>0</td>\n",
       "      <td>A0191512Q2Z9IPUAE2RZ</td>\n",
       "      <td>2013-07-06</td>\n",
       "      <td>B000BOBWBG</td>\n",
       "    </tr>\n",
       "    <tr>\n",
       "      <td>1</td>\n",
       "      <td>A0191512Q2Z9IPUAE2RZ</td>\n",
       "      <td>2013-07-06</td>\n",
       "      <td>B00894YWD0</td>\n",
       "    </tr>\n",
       "  </tbody>\n",
       "</table>\n",
       "</div>"
      ],
      "text/plain": [
       "             reviewerID  reviewTime        asin\n",
       "0  A0191512Q2Z9IPUAE2RZ  2013-07-06  B000BOBWBG\n",
       "1  A0191512Q2Z9IPUAE2RZ  2013-07-06  B00894YWD0"
      ]
     },
     "execution_count": 48,
     "metadata": {},
     "output_type": "execute_result"
    }
   ],
   "source": [
    "cleaned_review_small.head(2)"
   ]
  },
  {
   "cell_type": "code",
   "execution_count": 51,
   "metadata": {},
   "outputs": [
    {
     "data": {
      "text/plain": [
       "'0006514006'"
      ]
     },
     "execution_count": 51,
     "metadata": {},
     "output_type": "execute_result"
    }
   ],
   "source": [
    "u_asin_list[10]"
   ]
  },
  {
   "cell_type": "code",
   "execution_count": 52,
   "metadata": {},
   "outputs": [
    {
     "name": "stdout",
     "output_type": "stream",
     "text": [
      "[########################################] | 100% Completed |  0.1s\n",
      "[########################################] | 100% Completed |  0.2s\n"
     ]
    },
    {
     "data": {
      "text/plain": [
       "1"
      ]
     },
     "execution_count": 52,
     "metadata": {},
     "output_type": "execute_result"
    }
   ],
   "source": [
    "user_demo = 'A0191512Q2Z9IPUAE2RZ'\n",
    "time_demo = '2014-07-06'\n",
    "asin_demo = 'B00894YWD0' # one of unique asin \n",
    "len(cleaned_review_small_dd[(cleaned_review_small_dd['reviewerID'] == user_demo) & (cleaned_review_small_dd['reviewTime'] < time_demo) & (cleaned_review_small_dd['asin'] == asin_demo)])\n",
    "# all work"
   ]
  },
  {
   "cell_type": "markdown",
   "metadata": {},
   "source": [
    "---\n",
    "### Dask Version of Multi-Core processing to get diversity index for product level\n",
    "---"
   ]
  },
  {
   "cell_type": "code",
   "execution_count": null,
   "metadata": {},
   "outputs": [],
   "source": [
    "# DASK version for memory efficiency\n",
    "# adjust for multi_core_process_diversity_index\n",
    "# multi_core_asin_di(clean_id_time_dd) + cleaned_review_small_dd\n",
    "def multi_core_asin_di_dd(df): # df = clean_id_time_dd, -> tun to be  dic = dic_reviewer_time\n",
    "    \n",
    "    dic = dictionary_for_reviewer_time(df) # work = turn to dictionarly\n",
    "    person  = 0\n",
    "    em_list =[]\n",
    "    \n",
    "    # u_asin_list # = unique_value_list(df,'asin') # 124368 unique list \n",
    "       \n",
    "    for user, time in dic.items():\n",
    "        print(user, time)\n",
    "        \n",
    "        em_df = pd.DataFrame({'reviewerID': [user],'reviewTime':[time]})\n",
    "        em_df = dd.from_pandas(em_df, npartitions=1)    \n",
    "        n=0\n",
    "        \n",
    "        for i in u_asin_list:\n",
    "        \n",
    "            em_df['sum_{}'.format(i)] =  len(cleaned_review_small_dd[(cleaned_review_small_dd['reviewerID'] == user) & (cleaned_review_small_dd['reviewTime'] < time) & (cleaned_review_small_dd['asin'] == i)])\n",
    "        \n",
    "            if n% 1000 ==0:\n",
    "                print('first loop for {}'.format(user), n)\n",
    "            n+=1\n",
    "        \n",
    "        \n",
    "        total = 0\n",
    "    \n",
    "        for i in range(2, em_df.shape[1]): #shape[1] column\n",
    "            total += em_df.iloc[:,i]\n",
    "            if i% 1000 ==0:\n",
    "                 print('second loop', i)\n",
    "        \n",
    "        p=0.0\n",
    "        h=0.0\n",
    "    \n",
    "        for i in range(2, em_df.shape[1]):\n",
    "            p = float(em_df.iloc[:,i]/total)\n",
    "            if  p == 0.0:\n",
    "                h += 0\n",
    "            elif p > 0.0: \n",
    "                 h += -1*p*np.log(p) # add +1 for -inf case, log is natural logrithm\n",
    "                \n",
    "        em_df['asin_diversity'] = h  # this is the category diversity index for reviewer at time t considering t-1 reviews  \n",
    "        em_df['cum_review_t-1'] = total \n",
    "        em_list.append(em_df)\n",
    "       \n",
    "        if person% 1000 ==0:\n",
    "            print(person)\n",
    "        person+=1\n",
    "        \n",
    "    asin_analysis_df = dd.concat(em_list)\n",
    "    print('the length of asin_anslysis: ', len(asin_analysis_df)\n",
    "    # df = pd.merge(reviewer_time_df,cate_analysis_df, how='left', on='reviewerID')\n",
    "    return asin_analysis_df    "
   ]
  },
  {
   "cell_type": "code",
   "execution_count": 54,
   "metadata": {},
   "outputs": [
    {
     "name": "stdout",
     "output_type": "stream",
     "text": [
      "[########################################] | 100% Completed |  0.1s\n",
      "[########################################] | 100% Completed |  0.1s\n"
     ]
    },
    {
     "data": {
      "text/plain": [
       "6724"
      ]
     },
     "execution_count": 54,
     "metadata": {},
     "output_type": "execute_result"
    }
   ],
   "source": [
    "len(clean_id_time_dd)"
   ]
  },
  {
   "cell_type": "code",
   "execution_count": 67,
   "metadata": {},
   "outputs": [
    {
     "name": "stdout",
     "output_type": "stream",
     "text": [
      "[########################################] | 100% Completed |  0.1s\n",
      "[########################################] | 100% Completed |  0.1s\n",
      "ABA5CXZHS0U9Z 2006-04-11\n",
      "A2T6GWBGR4XQ3L 2006-03-14\n",
      "AQVO6SZI2027K 2005-11-12\n",
      "AA3R95ETMLG1B 2006-08-04\n",
      "ANRXH0BVEAR6B 2005-07-19\n",
      "A1V2PDUZVMGRV7 2006-08-03\n",
      "A1RPXPCEY07ODW 2005-11-08\n",
      "AYL2RCBAY86ML 2006-08-26\n",
      "A13SBXZOMP7WS5 2006-01-30\n",
      "A34OBTZRRZEXFX 2006-10-13\n",
      "A202DC58JWUAOS 2006-08-12\n",
      "AVHZP1NAWPLD9 2005-03-14\n",
      "A1ETHUCBRA7URP 2006-03-29\n",
      "A1QO7UOWLOYIFV 2006-09-15\n",
      "A1NJHQ0YZHDYUH 2006-10-24\n",
      "AB0NVTUKL7D5Z 2006-09-22\n",
      "A1JR5RLX32ENMM 2006-08-26\n",
      "A2VIFZ0H7XCKP1 2005-10-12\n",
      "A1GO68JYWJ5WFJ 2006-03-17\n",
      "A101OAAMZYWQ3U 2006-09-05\n",
      "A3VF3S9EH2EGS5 2005-11-30\n",
      "ARYKQVYDW2PO6 2006-07-25\n",
      "AUV2X1BK2VHKN 2006-02-25\n",
      "A23SUOMYEHK0JZ 2006-08-30\n",
      "first loop for A1JR5RLX32ENMM 0\n",
      "first loop for ARYKQVYDW2PO6 0\n",
      "first loop for AYL2RCBAY86ML 0\n",
      "first loop for A34OBTZRRZEXFX 0\n",
      "first loop for A1QO7UOWLOYIFV 0\n",
      "first loop for ABA5CXZHS0U9Z 0\n",
      "first loop for A13SBXZOMP7WS5 0\n",
      "first loop for A1GO68JYWJ5WFJ 0\n",
      "first loop for A1V2PDUZVMGRV7 0\n",
      "first loop for AA3R95ETMLG1B 0\n",
      "first loop for AQVO6SZI2027K 0\n",
      "first loop for A2VIFZ0H7XCKP1 0\n",
      "first loop for A3VF3S9EH2EGS5 0\n",
      "first loop for AVHZP1NAWPLD9 0\n",
      "first loop for A1NJHQ0YZHDYUH 0\n",
      "first loop for A23SUOMYEHK0JZ 0\n",
      "first loop for AB0NVTUKL7D5Z 0\n",
      "first loop for A101OAAMZYWQ3U 0\n",
      "first loop for A2T6GWBGR4XQ3L 0\n",
      "first loop for A1RPXPCEY07ODW 0\n",
      "first loop for A202DC58JWUAOS 0\n",
      "first loop for ANRXH0BVEAR6B 0\n",
      "first loop for AUV2X1BK2VHKN 0\n",
      "first loop for A1ETHUCBRA7URP 0\n",
      "first loop for AQVO6SZI2027K 1000\n",
      "first loop for ANRXH0BVEAR6B 1000\n",
      "first loop for AB0NVTUKL7D5Z 1000\n",
      "first loop for AVHZP1NAWPLD9 1000\n",
      "first loop for AA3R95ETMLG1B 1000\n",
      "first loop for ABA5CXZHS0U9Z 1000\n",
      "first loop for AYL2RCBAY86ML 1000\n",
      "first loop for ARYKQVYDW2PO6 1000\n",
      "first loop for AUV2X1BK2VHKN 1000\n",
      "first loop for A2VIFZ0H7XCKP1 1000\n",
      "first loop for A101OAAMZYWQ3U 1000\n",
      "first loop for A1RPXPCEY07ODW 1000\n",
      "first loop for A1NJHQ0YZHDYUH 1000\n",
      "first loop for A3VF3S9EH2EGS5 1000\n",
      "first loop for A1QO7UOWLOYIFV 1000\n",
      "first loop for A34OBTZRRZEXFX 1000\n",
      "first loop for A1V2PDUZVMGRV7 1000\n",
      "first loop for A2T6GWBGR4XQ3L 1000\n",
      "first loop for A1JR5RLX32ENMM 1000\n",
      "first loop for A1GO68JYWJ5WFJ 1000\n",
      "first loop for A202DC58JWUAOS 1000\n",
      "first loop for A23SUOMYEHK0JZ 1000\n",
      "first loop for A1ETHUCBRA7URP 1000\n",
      "first loop for A13SBXZOMP7WS5 1000\n",
      "first loop for ANRXH0BVEAR6B 2000\n",
      "first loop for AQVO6SZI2027K 2000\n",
      "first loop for AB0NVTUKL7D5Z 2000\n",
      "first loop for AVHZP1NAWPLD9 2000\n",
      "first loop for AA3R95ETMLG1B 2000\n",
      "first loop for ABA5CXZHS0U9Z 2000\n",
      "first loop for AYL2RCBAY86ML 2000\n",
      "first loop for ARYKQVYDW2PO6 2000\n",
      "first loop for AUV2X1BK2VHKN 2000\n",
      "first loop for A101OAAMZYWQ3U 2000\n",
      "first loop for A2VIFZ0H7XCKP1 2000\n",
      "first loop for A3VF3S9EH2EGS5 2000\n",
      "first loop for A1QO7UOWLOYIFV 2000\n",
      "first loop for A1RPXPCEY07ODW 2000\n",
      "first loop for A1NJHQ0YZHDYUH 2000\n",
      "first loop for A34OBTZRRZEXFX 2000\n",
      "first loop for A2T6GWBGR4XQ3L 2000\n",
      "first loop for A1V2PDUZVMGRV7 2000\n",
      "first loop for A202DC58JWUAOS 2000\n",
      "first loop for A1JR5RLX32ENMM 2000\n",
      "first loop for A1GO68JYWJ5WFJ 2000\n",
      "first loop for A23SUOMYEHK0JZ 2000\n",
      "first loop for A1ETHUCBRA7URP 2000\n",
      "first loop for A13SBXZOMP7WS5 2000\n",
      "first loop for ANRXH0BVEAR6B 3000\n",
      "first loop for AQVO6SZI2027K 3000\n",
      "first loop for AVHZP1NAWPLD9 3000\n",
      "first loop for AB0NVTUKL7D5Z 3000\n",
      "first loop for AA3R95ETMLG1B 3000\n",
      "first loop for ABA5CXZHS0U9Z 3000\n",
      "first loop for ARYKQVYDW2PO6 3000\n",
      "first loop for AYL2RCBAY86ML 3000\n",
      "first loop for AUV2X1BK2VHKN 3000\n",
      "first loop for A101OAAMZYWQ3U 3000\n",
      "first loop for A3VF3S9EH2EGS5 3000\n",
      "first loop for A2VIFZ0H7XCKP1 3000\n",
      "first loop for A1RPXPCEY07ODW 3000\n",
      "first loop for A1QO7UOWLOYIFV 3000\n",
      "first loop for A1NJHQ0YZHDYUH 3000\n",
      "first loop for A34OBTZRRZEXFX 3000\n",
      "first loop for A2T6GWBGR4XQ3L 3000\n",
      "first loop for A1JR5RLX32ENMM 3000\n",
      "first loop for A202DC58JWUAOS 3000\n",
      "first loop for A1V2PDUZVMGRV7 3000\n",
      "first loop for A23SUOMYEHK0JZ 3000\n",
      "first loop for A1GO68JYWJ5WFJ 3000\n",
      "first loop for A1ETHUCBRA7URP 3000\n",
      "first loop for A13SBXZOMP7WS5 3000\n",
      "first loop for ANRXH0BVEAR6B 4000\n",
      "first loop for AQVO6SZI2027K 4000\n",
      "first loop for AVHZP1NAWPLD9 4000\n",
      "first loop for AB0NVTUKL7D5Z 4000\n",
      "first loop for AA3R95ETMLG1B 4000\n",
      "first loop for ABA5CXZHS0U9Z 4000\n",
      "first loop for AYL2RCBAY86ML 4000\n",
      "first loop for ARYKQVYDW2PO6 4000\n",
      "first loop for AUV2X1BK2VHKN 4000\n",
      "first loop for A101OAAMZYWQ3U 4000\n",
      "first loop for A1RPXPCEY07ODW 4000\n",
      "first loop for A3VF3S9EH2EGS5 4000\n",
      "first loop for A2VIFZ0H7XCKP1 4000\n",
      "first loop for A1QO7UOWLOYIFV 4000\n",
      "first loop for A1NJHQ0YZHDYUH 4000\n",
      "first loop for A34OBTZRRZEXFX 4000\n",
      "first loop for A2T6GWBGR4XQ3L 4000\n",
      "first loop for A1JR5RLX32ENMM 4000\n",
      "first loop for A1V2PDUZVMGRV7 4000\n",
      "first loop for A202DC58JWUAOS 4000\n",
      "first loop for A23SUOMYEHK0JZ 4000\n",
      "first loop for A1ETHUCBRA7URP 4000\n",
      "first loop for A1GO68JYWJ5WFJ 4000\n",
      "first loop for A13SBXZOMP7WS5 4000\n",
      "first loop for AQVO6SZI2027K 5000\n",
      "first loop for AB0NVTUKL7D5Z 5000\n",
      "first loop for ANRXH0BVEAR6B 5000\n",
      "first loop for AVHZP1NAWPLD9 5000\n",
      "first loop for AA3R95ETMLG1B 5000\n",
      "first loop for AYL2RCBAY86ML 5000\n",
      "first loop for ABA5CXZHS0U9Z 5000\n",
      "first loop for ARYKQVYDW2PO6 5000\n",
      "first loop for AUV2X1BK2VHKN 5000\n",
      "first loop for A101OAAMZYWQ3U 5000\n",
      "first loop for A2VIFZ0H7XCKP1 5000\n",
      "first loop for A3VF3S9EH2EGS5 5000\n",
      "first loop for A1RPXPCEY07ODW 5000\n",
      "first loop for A1QO7UOWLOYIFV 5000\n",
      "first loop for A34OBTZRRZEXFX 5000\n",
      "first loop for A1NJHQ0YZHDYUH 5000\n",
      "first loop for A2T6GWBGR4XQ3L 5000\n",
      "first loop for A1JR5RLX32ENMM 5000\n",
      "first loop for A1V2PDUZVMGRV7 5000\n",
      "first loop for A23SUOMYEHK0JZ 5000\n",
      "first loop for A202DC58JWUAOS 5000\n",
      "first loop for A1ETHUCBRA7URP 5000\n",
      "first loop for A13SBXZOMP7WS5 5000\n",
      "first loop for A1GO68JYWJ5WFJ 5000\n",
      "first loop for AQVO6SZI2027K 6000\n",
      "first loop for ANRXH0BVEAR6B 6000\n",
      "first loop for AB0NVTUKL7D5Z 6000\n",
      "first loop for AVHZP1NAWPLD9 6000\n",
      "first loop for AYL2RCBAY86ML 6000\n",
      "first loop for AA3R95ETMLG1B 6000\n",
      "first loop for ABA5CXZHS0U9Z 6000\n",
      "first loop for ARYKQVYDW2PO6 6000\n",
      "first loop for AUV2X1BK2VHKN 6000\n",
      "first loop for A101OAAMZYWQ3U 6000\n",
      "first loop for A1RPXPCEY07ODW 6000\n",
      "first loop for A2VIFZ0H7XCKP1 6000\n",
      "first loop for A3VF3S9EH2EGS5 6000\n",
      "first loop for A1QO7UOWLOYIFV 6000\n",
      "first loop for A34OBTZRRZEXFX 6000\n",
      "first loop for A1NJHQ0YZHDYUH 6000\n",
      "first loop for A2T6GWBGR4XQ3L 6000\n",
      "first loop for A1JR5RLX32ENMM 6000\n",
      "first loop for A1V2PDUZVMGRV7 6000\n",
      "first loop for A202DC58JWUAOS 6000\n",
      "first loop for A23SUOMYEHK0JZ 6000\n",
      "first loop for A1ETHUCBRA7URP 6000\n",
      "first loop for A13SBXZOMP7WS5 6000\n",
      "first loop for A1GO68JYWJ5WFJ 6000\n",
      "first loop for ANRXH0BVEAR6B 7000\n",
      "first loop for AB0NVTUKL7D5Z 7000\n",
      "first loop for AQVO6SZI2027K 7000\n",
      "first loop for AVHZP1NAWPLD9 7000\n",
      "first loop for AA3R95ETMLG1B 7000\n",
      "first loop for AYL2RCBAY86ML 7000\n",
      "first loop for ABA5CXZHS0U9Z 7000\n",
      "first loop for ARYKQVYDW2PO6 7000\n",
      "first loop for AUV2X1BK2VHKN 7000\n",
      "first loop for A101OAAMZYWQ3U 7000\n",
      "first loop for A1RPXPCEY07ODW 7000\n",
      "first loop for A3VF3S9EH2EGS5 7000\n",
      "first loop for A2VIFZ0H7XCKP1 7000\n",
      "first loop for A1QO7UOWLOYIFV 7000\n",
      "first loop for A34OBTZRRZEXFX 7000\n",
      "first loop for A1NJHQ0YZHDYUH 7000\n",
      "first loop for A2T6GWBGR4XQ3L 7000\n",
      "first loop for A1JR5RLX32ENMM 7000\n",
      "first loop for A1V2PDUZVMGRV7 7000\n",
      "first loop for A202DC58JWUAOS 7000\n",
      "first loop for A1ETHUCBRA7URP 7000\n",
      "first loop for A23SUOMYEHK0JZ 7000\n",
      "first loop for A13SBXZOMP7WS5 7000\n",
      "first loop for A1GO68JYWJ5WFJ 7000\n",
      "first loop for ANRXH0BVEAR6B 8000\n",
      "first loop for AB0NVTUKL7D5Z 8000\n",
      "first loop for AQVO6SZI2027K 8000\n",
      "first loop for AVHZP1NAWPLD9 8000\n",
      "first loop for AYL2RCBAY86ML 8000\n",
      "first loop for AA3R95ETMLG1B 8000\n",
      "first loop for ARYKQVYDW2PO6 8000\n",
      "first loop for ABA5CXZHS0U9Z 8000\n",
      "first loop for AUV2X1BK2VHKN 8000\n",
      "first loop for A101OAAMZYWQ3U 8000\n",
      "first loop for A1RPXPCEY07ODW 8000\n",
      "first loop for A3VF3S9EH2EGS5 8000\n",
      "first loop for A2VIFZ0H7XCKP1 8000\n",
      "first loop for A1QO7UOWLOYIFV 8000\n",
      "first loop for A34OBTZRRZEXFX 8000\n",
      "first loop for A1NJHQ0YZHDYUH 8000\n",
      "first loop for A2T6GWBGR4XQ3L 8000\n",
      "first loop for A1JR5RLX32ENMM 8000\n",
      "first loop for A1V2PDUZVMGRV7 8000\n",
      "first loop for A1ETHUCBRA7URP 8000\n",
      "first loop for A202DC58JWUAOS 8000\n",
      "first loop for A23SUOMYEHK0JZ 8000\n",
      "first loop for A13SBXZOMP7WS5 8000\n",
      "first loop for A1GO68JYWJ5WFJ 8000\n",
      "first loop for AQVO6SZI2027K 9000\n",
      "first loop for ANRXH0BVEAR6B 9000\n",
      "first loop for AB0NVTUKL7D5Z 9000\n",
      "first loop for AVHZP1NAWPLD9 9000\n",
      "first loop for AYL2RCBAY86ML 9000\n",
      "first loop for AA3R95ETMLG1B 9000\n",
      "first loop for ARYKQVYDW2PO6 9000\n",
      "first loop for ABA5CXZHS0U9Z 9000\n",
      "first loop for AUV2X1BK2VHKN 9000\n",
      "first loop for A101OAAMZYWQ3U 9000\n",
      "first loop for A1RPXPCEY07ODW 9000\n",
      "first loop for A2VIFZ0H7XCKP1 9000\n",
      "first loop for A3VF3S9EH2EGS5 9000\n",
      "first loop for A34OBTZRRZEXFX 9000\n",
      "first loop for A1QO7UOWLOYIFV 9000\n",
      "first loop for A1NJHQ0YZHDYUH 9000\n",
      "first loop for A2T6GWBGR4XQ3L 9000\n",
      "first loop for A1JR5RLX32ENMM 9000\n",
      "first loop for A1V2PDUZVMGRV7 9000\n",
      "first loop for A1ETHUCBRA7URP 9000\n",
      "first loop for A23SUOMYEHK0JZ 9000\n",
      "first loop for A202DC58JWUAOS 9000\n",
      "first loop for A1GO68JYWJ5WFJ 9000\n",
      "first loop for A13SBXZOMP7WS5 9000\n"
     ]
    },
    {
     "name": "stderr",
     "output_type": "stream",
     "text": [
      "Process ForkPoolWorker-71:\n",
      "Process ForkPoolWorker-62:\n",
      "Process ForkPoolWorker-64:\n",
      "Process ForkPoolWorker-63:\n",
      "Process ForkPoolWorker-55:\n",
      "Process ForkPoolWorker-49:\n",
      "Process ForkPoolWorker-52:\n",
      "Process ForkPoolWorker-58:\n",
      "Process ForkPoolWorker-51:\n",
      "Process ForkPoolWorker-56:\n",
      "Process ForkPoolWorker-54:\n",
      "Process ForkPoolWorker-50:\n",
      "Process ForkPoolWorker-53:\n",
      "Process ForkPoolWorker-69:\n",
      "Process ForkPoolWorker-61:\n",
      "Process ForkPoolWorker-67:\n",
      "Process ForkPoolWorker-70:\n",
      "Process ForkPoolWorker-66:\n",
      "Process ForkPoolWorker-68:\n",
      "Process ForkPoolWorker-57:\n",
      "Process ForkPoolWorker-59:\n",
      "Process ForkPoolWorker-60:\n",
      "Process ForkPoolWorker-65:\n",
      "Traceback (most recent call last):\n",
      "Traceback (most recent call last):\n",
      "Traceback (most recent call last):\n",
      "Process ForkPoolWorker-72:\n",
      "Traceback (most recent call last):\n",
      "Traceback (most recent call last):\n",
      "Traceback (most recent call last):\n",
      "Traceback (most recent call last):\n",
      "Traceback (most recent call last):\n",
      "Traceback (most recent call last):\n",
      "Traceback (most recent call last):\n",
      "Traceback (most recent call last):\n",
      "Traceback (most recent call last):\n",
      "Traceback (most recent call last):\n",
      "Traceback (most recent call last):\n",
      "Traceback (most recent call last):\n"
     ]
    },
    {
     "ename": "KeyboardInterrupt",
     "evalue": "",
     "output_type": "error",
     "traceback": [
      "\u001b[0;31m---------------------------------------------------------------------------\u001b[0m",
      "\u001b[0;31mKeyboardInterrupt\u001b[0m                         Traceback (most recent call last)",
      "\u001b[0;32m<timed exec>\u001b[0m in \u001b[0;36m<module>\u001b[0;34m\u001b[0m\n",
      "\u001b[0;32m<ipython-input-64-9671a136ceaf>\u001b[0m in \u001b[0;36mparallelize\u001b[0;34m(data, func)\u001b[0m\n\u001b[1;32m      2\u001b[0m     \u001b[0mdata_split\u001b[0m \u001b[0;34m=\u001b[0m \u001b[0mnp\u001b[0m\u001b[0;34m.\u001b[0m\u001b[0marray_split\u001b[0m\u001b[0;34m(\u001b[0m\u001b[0mdata\u001b[0m\u001b[0;34m,\u001b[0m \u001b[0mpartitions\u001b[0m\u001b[0;34m)\u001b[0m\u001b[0;34m\u001b[0m\u001b[0;34m\u001b[0m\u001b[0m\n\u001b[1;32m      3\u001b[0m     \u001b[0mpool\u001b[0m \u001b[0;34m=\u001b[0m \u001b[0mmp\u001b[0m\u001b[0;34m.\u001b[0m\u001b[0mPool\u001b[0m\u001b[0;34m(\u001b[0m\u001b[0mmp\u001b[0m\u001b[0;34m.\u001b[0m\u001b[0mcpu_count\u001b[0m\u001b[0;34m(\u001b[0m\u001b[0;34m)\u001b[0m\u001b[0;34m)\u001b[0m\u001b[0;34m\u001b[0m\u001b[0;34m\u001b[0m\u001b[0m\n\u001b[0;32m----> 4\u001b[0;31m     \u001b[0mdata\u001b[0m \u001b[0;34m=\u001b[0m \u001b[0mpd\u001b[0m\u001b[0;34m.\u001b[0m\u001b[0mconcat\u001b[0m\u001b[0;34m(\u001b[0m\u001b[0mpool\u001b[0m\u001b[0;34m.\u001b[0m\u001b[0mmap\u001b[0m\u001b[0;34m(\u001b[0m\u001b[0mfunc\u001b[0m\u001b[0;34m,\u001b[0m \u001b[0mdata_split\u001b[0m\u001b[0;34m)\u001b[0m\u001b[0;34m,\u001b[0m  \u001b[0mignore_index\u001b[0m\u001b[0;34m=\u001b[0m\u001b[0;32mFalse\u001b[0m\u001b[0;34m)\u001b[0m\u001b[0;34m\u001b[0m\u001b[0;34m\u001b[0m\u001b[0m\n\u001b[0m\u001b[1;32m      5\u001b[0m     \u001b[0mpool\u001b[0m\u001b[0;34m.\u001b[0m\u001b[0mclose\u001b[0m\u001b[0;34m(\u001b[0m\u001b[0;34m)\u001b[0m\u001b[0;34m\u001b[0m\u001b[0;34m\u001b[0m\u001b[0m\n\u001b[1;32m      6\u001b[0m     \u001b[0mpool\u001b[0m\u001b[0;34m.\u001b[0m\u001b[0mjoin\u001b[0m\u001b[0;34m(\u001b[0m\u001b[0;34m)\u001b[0m\u001b[0;34m\u001b[0m\u001b[0;34m\u001b[0m\u001b[0m\n",
      "\u001b[0;32m/opt/apps/anaconda3/19.10.0/lib/python3.7/multiprocessing/pool.py\u001b[0m in \u001b[0;36mmap\u001b[0;34m(self, func, iterable, chunksize)\u001b[0m\n\u001b[1;32m    266\u001b[0m         \u001b[0;32min\u001b[0m \u001b[0ma\u001b[0m \u001b[0mlist\u001b[0m \u001b[0mthat\u001b[0m \u001b[0;32mis\u001b[0m \u001b[0mreturned\u001b[0m\u001b[0;34m.\u001b[0m\u001b[0;34m\u001b[0m\u001b[0;34m\u001b[0m\u001b[0m\n\u001b[1;32m    267\u001b[0m         '''\n\u001b[0;32m--> 268\u001b[0;31m         \u001b[0;32mreturn\u001b[0m \u001b[0mself\u001b[0m\u001b[0;34m.\u001b[0m\u001b[0m_map_async\u001b[0m\u001b[0;34m(\u001b[0m\u001b[0mfunc\u001b[0m\u001b[0;34m,\u001b[0m \u001b[0miterable\u001b[0m\u001b[0;34m,\u001b[0m \u001b[0mmapstar\u001b[0m\u001b[0;34m,\u001b[0m \u001b[0mchunksize\u001b[0m\u001b[0;34m)\u001b[0m\u001b[0;34m.\u001b[0m\u001b[0mget\u001b[0m\u001b[0;34m(\u001b[0m\u001b[0;34m)\u001b[0m\u001b[0;34m\u001b[0m\u001b[0;34m\u001b[0m\u001b[0m\n\u001b[0m\u001b[1;32m    269\u001b[0m \u001b[0;34m\u001b[0m\u001b[0m\n\u001b[1;32m    270\u001b[0m     \u001b[0;32mdef\u001b[0m \u001b[0mstarmap\u001b[0m\u001b[0;34m(\u001b[0m\u001b[0mself\u001b[0m\u001b[0;34m,\u001b[0m \u001b[0mfunc\u001b[0m\u001b[0;34m,\u001b[0m \u001b[0miterable\u001b[0m\u001b[0;34m,\u001b[0m \u001b[0mchunksize\u001b[0m\u001b[0;34m=\u001b[0m\u001b[0;32mNone\u001b[0m\u001b[0;34m)\u001b[0m\u001b[0;34m:\u001b[0m\u001b[0;34m\u001b[0m\u001b[0;34m\u001b[0m\u001b[0m\n",
      "\u001b[0;32m/opt/apps/anaconda3/19.10.0/lib/python3.7/multiprocessing/pool.py\u001b[0m in \u001b[0;36mget\u001b[0;34m(self, timeout)\u001b[0m\n\u001b[1;32m    649\u001b[0m \u001b[0;34m\u001b[0m\u001b[0m\n\u001b[1;32m    650\u001b[0m     \u001b[0;32mdef\u001b[0m \u001b[0mget\u001b[0m\u001b[0;34m(\u001b[0m\u001b[0mself\u001b[0m\u001b[0;34m,\u001b[0m \u001b[0mtimeout\u001b[0m\u001b[0;34m=\u001b[0m\u001b[0;32mNone\u001b[0m\u001b[0;34m)\u001b[0m\u001b[0;34m:\u001b[0m\u001b[0;34m\u001b[0m\u001b[0;34m\u001b[0m\u001b[0m\n\u001b[0;32m--> 651\u001b[0;31m         \u001b[0mself\u001b[0m\u001b[0;34m.\u001b[0m\u001b[0mwait\u001b[0m\u001b[0;34m(\u001b[0m\u001b[0mtimeout\u001b[0m\u001b[0;34m)\u001b[0m\u001b[0;34m\u001b[0m\u001b[0;34m\u001b[0m\u001b[0m\n\u001b[0m\u001b[1;32m    652\u001b[0m         \u001b[0;32mif\u001b[0m \u001b[0;32mnot\u001b[0m \u001b[0mself\u001b[0m\u001b[0;34m.\u001b[0m\u001b[0mready\u001b[0m\u001b[0;34m(\u001b[0m\u001b[0;34m)\u001b[0m\u001b[0;34m:\u001b[0m\u001b[0;34m\u001b[0m\u001b[0;34m\u001b[0m\u001b[0m\n\u001b[1;32m    653\u001b[0m             \u001b[0;32mraise\u001b[0m \u001b[0mTimeoutError\u001b[0m\u001b[0;34m\u001b[0m\u001b[0;34m\u001b[0m\u001b[0m\n",
      "\u001b[0;32m/opt/apps/anaconda3/19.10.0/lib/python3.7/multiprocessing/pool.py\u001b[0m in \u001b[0;36mwait\u001b[0;34m(self, timeout)\u001b[0m\n\u001b[1;32m    646\u001b[0m \u001b[0;34m\u001b[0m\u001b[0m\n\u001b[1;32m    647\u001b[0m     \u001b[0;32mdef\u001b[0m \u001b[0mwait\u001b[0m\u001b[0;34m(\u001b[0m\u001b[0mself\u001b[0m\u001b[0;34m,\u001b[0m \u001b[0mtimeout\u001b[0m\u001b[0;34m=\u001b[0m\u001b[0;32mNone\u001b[0m\u001b[0;34m)\u001b[0m\u001b[0;34m:\u001b[0m\u001b[0;34m\u001b[0m\u001b[0;34m\u001b[0m\u001b[0m\n\u001b[0;32m--> 648\u001b[0;31m         \u001b[0mself\u001b[0m\u001b[0;34m.\u001b[0m\u001b[0m_event\u001b[0m\u001b[0;34m.\u001b[0m\u001b[0mwait\u001b[0m\u001b[0;34m(\u001b[0m\u001b[0mtimeout\u001b[0m\u001b[0;34m)\u001b[0m\u001b[0;34m\u001b[0m\u001b[0;34m\u001b[0m\u001b[0m\n\u001b[0m\u001b[1;32m    649\u001b[0m \u001b[0;34m\u001b[0m\u001b[0m\n\u001b[1;32m    650\u001b[0m     \u001b[0;32mdef\u001b[0m \u001b[0mget\u001b[0m\u001b[0;34m(\u001b[0m\u001b[0mself\u001b[0m\u001b[0;34m,\u001b[0m \u001b[0mtimeout\u001b[0m\u001b[0;34m=\u001b[0m\u001b[0;32mNone\u001b[0m\u001b[0;34m)\u001b[0m\u001b[0;34m:\u001b[0m\u001b[0;34m\u001b[0m\u001b[0;34m\u001b[0m\u001b[0m\n",
      "\u001b[0;32m/opt/apps/anaconda3/19.10.0/lib/python3.7/threading.py\u001b[0m in \u001b[0;36mwait\u001b[0;34m(self, timeout)\u001b[0m\n\u001b[1;32m    550\u001b[0m             \u001b[0msignaled\u001b[0m \u001b[0;34m=\u001b[0m \u001b[0mself\u001b[0m\u001b[0;34m.\u001b[0m\u001b[0m_flag\u001b[0m\u001b[0;34m\u001b[0m\u001b[0;34m\u001b[0m\u001b[0m\n\u001b[1;32m    551\u001b[0m             \u001b[0;32mif\u001b[0m \u001b[0;32mnot\u001b[0m \u001b[0msignaled\u001b[0m\u001b[0;34m:\u001b[0m\u001b[0;34m\u001b[0m\u001b[0;34m\u001b[0m\u001b[0m\n\u001b[0;32m--> 552\u001b[0;31m                 \u001b[0msignaled\u001b[0m \u001b[0;34m=\u001b[0m \u001b[0mself\u001b[0m\u001b[0;34m.\u001b[0m\u001b[0m_cond\u001b[0m\u001b[0;34m.\u001b[0m\u001b[0mwait\u001b[0m\u001b[0;34m(\u001b[0m\u001b[0mtimeout\u001b[0m\u001b[0;34m)\u001b[0m\u001b[0;34m\u001b[0m\u001b[0;34m\u001b[0m\u001b[0m\n\u001b[0m\u001b[1;32m    553\u001b[0m             \u001b[0;32mreturn\u001b[0m \u001b[0msignaled\u001b[0m\u001b[0;34m\u001b[0m\u001b[0;34m\u001b[0m\u001b[0m\n\u001b[1;32m    554\u001b[0m \u001b[0;34m\u001b[0m\u001b[0m\n",
      "\u001b[0;32m/opt/apps/anaconda3/19.10.0/lib/python3.7/threading.py\u001b[0m in \u001b[0;36mwait\u001b[0;34m(self, timeout)\u001b[0m\n\u001b[1;32m    294\u001b[0m         \u001b[0;32mtry\u001b[0m\u001b[0;34m:\u001b[0m    \u001b[0;31m# restore state no matter what (e.g., KeyboardInterrupt)\u001b[0m\u001b[0;34m\u001b[0m\u001b[0;34m\u001b[0m\u001b[0m\n\u001b[1;32m    295\u001b[0m             \u001b[0;32mif\u001b[0m \u001b[0mtimeout\u001b[0m \u001b[0;32mis\u001b[0m \u001b[0;32mNone\u001b[0m\u001b[0;34m:\u001b[0m\u001b[0;34m\u001b[0m\u001b[0;34m\u001b[0m\u001b[0m\n\u001b[0;32m--> 296\u001b[0;31m                 \u001b[0mwaiter\u001b[0m\u001b[0;34m.\u001b[0m\u001b[0macquire\u001b[0m\u001b[0;34m(\u001b[0m\u001b[0;34m)\u001b[0m\u001b[0;34m\u001b[0m\u001b[0;34m\u001b[0m\u001b[0m\n\u001b[0m\u001b[1;32m    297\u001b[0m                 \u001b[0mgotit\u001b[0m \u001b[0;34m=\u001b[0m \u001b[0;32mTrue\u001b[0m\u001b[0;34m\u001b[0m\u001b[0;34m\u001b[0m\u001b[0m\n\u001b[1;32m    298\u001b[0m             \u001b[0;32melse\u001b[0m\u001b[0;34m:\u001b[0m\u001b[0;34m\u001b[0m\u001b[0;34m\u001b[0m\u001b[0m\n",
      "\u001b[0;31mKeyboardInterrupt\u001b[0m: "
     ]
    },
    {
     "name": "stderr",
     "output_type": "stream",
     "text": [
      "  File \"/opt/apps/anaconda3/19.10.0/lib/python3.7/multiprocessing/process.py\", line 297, in _bootstrap\n",
      "    self.run()\n",
      "  File \"/opt/apps/anaconda3/19.10.0/lib/python3.7/multiprocessing/process.py\", line 297, in _bootstrap\n",
      "    self.run()\n",
      "Traceback (most recent call last):\n",
      "Traceback (most recent call last):\n",
      "  File \"/opt/apps/anaconda3/19.10.0/lib/python3.7/multiprocessing/process.py\", line 297, in _bootstrap\n",
      "    self.run()\n",
      "Traceback (most recent call last):\n",
      "Traceback (most recent call last):\n",
      "Traceback (most recent call last):\n",
      "  File \"/opt/apps/anaconda3/19.10.0/lib/python3.7/multiprocessing/process.py\", line 297, in _bootstrap\n",
      "    self.run()\n",
      "Traceback (most recent call last):\n",
      "  File \"/opt/apps/anaconda3/19.10.0/lib/python3.7/multiprocessing/process.py\", line 297, in _bootstrap\n",
      "    self.run()\n",
      "Traceback (most recent call last):\n",
      "Traceback (most recent call last):\n",
      "  File \"/opt/apps/anaconda3/19.10.0/lib/python3.7/multiprocessing/process.py\", line 297, in _bootstrap\n",
      "    self.run()\n",
      "Traceback (most recent call last):\n",
      "  File \"/opt/apps/anaconda3/19.10.0/lib/python3.7/multiprocessing/process.py\", line 297, in _bootstrap\n",
      "    self.run()\n",
      "  File \"/opt/apps/anaconda3/19.10.0/lib/python3.7/multiprocessing/process.py\", line 297, in _bootstrap\n",
      "    self.run()\n",
      "  File \"/opt/apps/anaconda3/19.10.0/lib/python3.7/multiprocessing/process.py\", line 297, in _bootstrap\n",
      "    self.run()\n",
      "  File \"/opt/apps/anaconda3/19.10.0/lib/python3.7/multiprocessing/process.py\", line 297, in _bootstrap\n",
      "    self.run()\n",
      "  File \"/opt/apps/anaconda3/19.10.0/lib/python3.7/multiprocessing/process.py\", line 297, in _bootstrap\n",
      "    self.run()\n",
      "  File \"/opt/apps/anaconda3/19.10.0/lib/python3.7/multiprocessing/process.py\", line 297, in _bootstrap\n",
      "    self.run()\n",
      "  File \"/opt/apps/anaconda3/19.10.0/lib/python3.7/multiprocessing/process.py\", line 297, in _bootstrap\n",
      "    self.run()\n",
      "  File \"/opt/apps/anaconda3/19.10.0/lib/python3.7/multiprocessing/process.py\", line 297, in _bootstrap\n",
      "    self.run()\n",
      "  File \"/opt/apps/anaconda3/19.10.0/lib/python3.7/multiprocessing/process.py\", line 297, in _bootstrap\n",
      "    self.run()\n",
      "  File \"/opt/apps/anaconda3/19.10.0/lib/python3.7/multiprocessing/process.py\", line 99, in run\n",
      "    self._target(*self._args, **self._kwargs)\n",
      "  File \"/opt/apps/anaconda3/19.10.0/lib/python3.7/multiprocessing/process.py\", line 99, in run\n",
      "    self._target(*self._args, **self._kwargs)\n",
      "  File \"/opt/apps/anaconda3/19.10.0/lib/python3.7/multiprocessing/process.py\", line 297, in _bootstrap\n",
      "    self.run()\n",
      "  File \"/opt/apps/anaconda3/19.10.0/lib/python3.7/multiprocessing/process.py\", line 99, in run\n",
      "    self._target(*self._args, **self._kwargs)\n",
      "  File \"/opt/apps/anaconda3/19.10.0/lib/python3.7/multiprocessing/process.py\", line 297, in _bootstrap\n",
      "    self.run()\n",
      "  File \"/opt/apps/anaconda3/19.10.0/lib/python3.7/multiprocessing/process.py\", line 297, in _bootstrap\n",
      "    self.run()\n",
      "  File \"/opt/apps/anaconda3/19.10.0/lib/python3.7/multiprocessing/process.py\", line 297, in _bootstrap\n",
      "    self.run()\n",
      "  File \"/opt/apps/anaconda3/19.10.0/lib/python3.7/site-packages/pandas/core/indexes/base.py\", line 2897, in get_loc\n",
      "    return self._engine.get_loc(key)\n",
      "  File \"/opt/apps/anaconda3/19.10.0/lib/python3.7/multiprocessing/process.py\", line 297, in _bootstrap\n",
      "    self.run()\n",
      "  File \"/opt/apps/anaconda3/19.10.0/lib/python3.7/multiprocessing/process.py\", line 99, in run\n",
      "    self._target(*self._args, **self._kwargs)\n",
      "  File \"/opt/apps/anaconda3/19.10.0/lib/python3.7/multiprocessing/process.py\", line 99, in run\n",
      "    self._target(*self._args, **self._kwargs)\n",
      "  File \"/opt/apps/anaconda3/19.10.0/lib/python3.7/multiprocessing/process.py\", line 297, in _bootstrap\n",
      "    self.run()\n",
      "  File \"/opt/apps/anaconda3/19.10.0/lib/python3.7/multiprocessing/process.py\", line 297, in _bootstrap\n",
      "    self.run()\n",
      "  File \"/opt/apps/anaconda3/19.10.0/lib/python3.7/multiprocessing/process.py\", line 99, in run\n",
      "    self._target(*self._args, **self._kwargs)\n",
      "  File \"/opt/apps/anaconda3/19.10.0/lib/python3.7/site-packages/pandas/core/indexes/base.py\", line 2897, in get_loc\n",
      "    return self._engine.get_loc(key)\n",
      "  File \"/opt/apps/anaconda3/19.10.0/lib/python3.7/multiprocessing/process.py\", line 99, in run\n",
      "    self._target(*self._args, **self._kwargs)\n",
      "  File \"/opt/apps/anaconda3/19.10.0/lib/python3.7/multiprocessing/process.py\", line 99, in run\n",
      "    self._target(*self._args, **self._kwargs)\n",
      "  File \"/opt/apps/anaconda3/19.10.0/lib/python3.7/multiprocessing/process.py\", line 99, in run\n",
      "    self._target(*self._args, **self._kwargs)\n",
      "  File \"/opt/apps/anaconda3/19.10.0/lib/python3.7/multiprocessing/process.py\", line 99, in run\n",
      "    self._target(*self._args, **self._kwargs)\n",
      "  File \"/opt/apps/anaconda3/19.10.0/lib/python3.7/multiprocessing/process.py\", line 99, in run\n",
      "    self._target(*self._args, **self._kwargs)\n",
      "  File \"/opt/apps/anaconda3/19.10.0/lib/python3.7/multiprocessing/process.py\", line 99, in run\n",
      "    self._target(*self._args, **self._kwargs)\n",
      "  File \"/opt/apps/anaconda3/19.10.0/lib/python3.7/multiprocessing/process.py\", line 99, in run\n",
      "    self._target(*self._args, **self._kwargs)\n",
      "  File \"/opt/apps/anaconda3/19.10.0/lib/python3.7/multiprocessing/process.py\", line 99, in run\n",
      "    self._target(*self._args, **self._kwargs)\n",
      "  File \"/opt/apps/anaconda3/19.10.0/lib/python3.7/multiprocessing/process.py\", line 99, in run\n",
      "    self._target(*self._args, **self._kwargs)\n",
      "  File \"/opt/apps/anaconda3/19.10.0/lib/python3.7/multiprocessing/process.py\", line 99, in run\n",
      "    self._target(*self._args, **self._kwargs)\n",
      "  File \"/opt/apps/anaconda3/19.10.0/lib/python3.7/multiprocessing/pool.py\", line 121, in worker\n",
      "    result = (True, func(*args, **kwds))\n",
      "  File \"/opt/apps/anaconda3/19.10.0/lib/python3.7/multiprocessing/pool.py\", line 121, in worker\n",
      "    result = (True, func(*args, **kwds))\n",
      "  File \"/opt/apps/anaconda3/19.10.0/lib/python3.7/multiprocessing/pool.py\", line 121, in worker\n",
      "    result = (True, func(*args, **kwds))\n",
      "  File \"/opt/apps/anaconda3/19.10.0/lib/python3.7/multiprocessing/process.py\", line 99, in run\n",
      "    self._target(*self._args, **self._kwargs)\n",
      "  File \"/opt/apps/anaconda3/19.10.0/lib/python3.7/multiprocessing/process.py\", line 99, in run\n",
      "    self._target(*self._args, **self._kwargs)\n",
      "  File \"/opt/apps/anaconda3/19.10.0/lib/python3.7/multiprocessing/process.py\", line 99, in run\n",
      "    self._target(*self._args, **self._kwargs)\n",
      "  File \"/opt/apps/anaconda3/19.10.0/lib/python3.7/multiprocessing/process.py\", line 99, in run\n",
      "    self._target(*self._args, **self._kwargs)\n",
      "  File \"/opt/apps/anaconda3/19.10.0/lib/python3.7/multiprocessing/pool.py\", line 121, in worker\n",
      "    result = (True, func(*args, **kwds))\n",
      "  File \"/opt/apps/anaconda3/19.10.0/lib/python3.7/multiprocessing/pool.py\", line 121, in worker\n",
      "    result = (True, func(*args, **kwds))\n",
      "  File \"pandas/_libs/index.pyx\", line 107, in pandas._libs.index.IndexEngine.get_loc\n",
      "  File \"/opt/apps/anaconda3/19.10.0/lib/python3.7/multiprocessing/process.py\", line 99, in run\n",
      "    self._target(*self._args, **self._kwargs)\n",
      "  File \"/opt/apps/anaconda3/19.10.0/lib/python3.7/multiprocessing/pool.py\", line 121, in worker\n",
      "    result = (True, func(*args, **kwds))\n",
      "  File \"/opt/apps/anaconda3/19.10.0/lib/python3.7/multiprocessing/process.py\", line 99, in run\n",
      "    self._target(*self._args, **self._kwargs)\n",
      "  File \"/opt/apps/anaconda3/19.10.0/lib/python3.7/multiprocessing/pool.py\", line 121, in worker\n",
      "    result = (True, func(*args, **kwds))\n",
      "  File \"pandas/_libs/index.pyx\", line 107, in pandas._libs.index.IndexEngine.get_loc\n",
      "  File \"/opt/apps/anaconda3/19.10.0/lib/python3.7/multiprocessing/pool.py\", line 121, in worker\n",
      "    result = (True, func(*args, **kwds))\n",
      "  File \"/opt/apps/anaconda3/19.10.0/lib/python3.7/multiprocessing/pool.py\", line 121, in worker\n",
      "    result = (True, func(*args, **kwds))\n",
      "  File \"/opt/apps/anaconda3/19.10.0/lib/python3.7/multiprocessing/pool.py\", line 121, in worker\n",
      "    result = (True, func(*args, **kwds))\n",
      "  File \"/opt/apps/anaconda3/19.10.0/lib/python3.7/multiprocessing/pool.py\", line 121, in worker\n",
      "    result = (True, func(*args, **kwds))\n",
      "  File \"/opt/apps/anaconda3/19.10.0/lib/python3.7/multiprocessing/pool.py\", line 121, in worker\n",
      "    result = (True, func(*args, **kwds))\n",
      "  File \"/opt/apps/anaconda3/19.10.0/lib/python3.7/multiprocessing/pool.py\", line 121, in worker\n",
      "    result = (True, func(*args, **kwds))\n",
      "  File \"/opt/apps/anaconda3/19.10.0/lib/python3.7/multiprocessing/pool.py\", line 121, in worker\n",
      "    result = (True, func(*args, **kwds))\n",
      "  File \"/opt/apps/anaconda3/19.10.0/lib/python3.7/multiprocessing/pool.py\", line 121, in worker\n",
      "    result = (True, func(*args, **kwds))\n",
      "  File \"/opt/apps/anaconda3/19.10.0/lib/python3.7/multiprocessing/pool.py\", line 44, in mapstar\n",
      "    return list(map(*args))\n",
      "  File \"/opt/apps/anaconda3/19.10.0/lib/python3.7/multiprocessing/pool.py\", line 44, in mapstar\n",
      "    return list(map(*args))\n",
      "  File \"/opt/apps/anaconda3/19.10.0/lib/python3.7/multiprocessing/pool.py\", line 121, in worker\n",
      "    result = (True, func(*args, **kwds))\n",
      "  File \"/opt/apps/anaconda3/19.10.0/lib/python3.7/multiprocessing/pool.py\", line 44, in mapstar\n",
      "    return list(map(*args))\n",
      "  File \"/opt/apps/anaconda3/19.10.0/lib/python3.7/multiprocessing/pool.py\", line 121, in worker\n",
      "    result = (True, func(*args, **kwds))\n",
      "  File \"/opt/apps/anaconda3/19.10.0/lib/python3.7/multiprocessing/pool.py\", line 121, in worker\n",
      "    result = (True, func(*args, **kwds))\n",
      "  File \"/opt/apps/anaconda3/19.10.0/lib/python3.7/multiprocessing/pool.py\", line 121, in worker\n",
      "    result = (True, func(*args, **kwds))\n",
      "  File \"/opt/apps/anaconda3/19.10.0/lib/python3.7/multiprocessing/pool.py\", line 121, in worker\n",
      "    result = (True, func(*args, **kwds))\n",
      "  File \"/opt/apps/anaconda3/19.10.0/lib/python3.7/multiprocessing/pool.py\", line 44, in mapstar\n",
      "    return list(map(*args))\n",
      "  File \"/opt/apps/anaconda3/19.10.0/lib/python3.7/multiprocessing/pool.py\", line 44, in mapstar\n",
      "    return list(map(*args))\n",
      "  File \"pandas/_libs/index.pyx\", line 131, in pandas._libs.index.IndexEngine.get_loc\n",
      "  File \"/opt/apps/anaconda3/19.10.0/lib/python3.7/multiprocessing/pool.py\", line 121, in worker\n",
      "    result = (True, func(*args, **kwds))\n",
      "  File \"/opt/apps/anaconda3/19.10.0/lib/python3.7/multiprocessing/pool.py\", line 44, in mapstar\n",
      "    return list(map(*args))\n",
      "  File \"/opt/apps/anaconda3/19.10.0/lib/python3.7/multiprocessing/pool.py\", line 121, in worker\n",
      "    result = (True, func(*args, **kwds))\n",
      "  File \"/opt/apps/anaconda3/19.10.0/lib/python3.7/multiprocessing/pool.py\", line 44, in mapstar\n",
      "    return list(map(*args))\n",
      "  File \"pandas/_libs/index.pyx\", line 131, in pandas._libs.index.IndexEngine.get_loc\n",
      "  File \"/opt/apps/anaconda3/19.10.0/lib/python3.7/multiprocessing/pool.py\", line 44, in mapstar\n",
      "    return list(map(*args))\n",
      "  File \"/opt/apps/anaconda3/19.10.0/lib/python3.7/multiprocessing/pool.py\", line 44, in mapstar\n",
      "    return list(map(*args))\n",
      "  File \"/opt/apps/anaconda3/19.10.0/lib/python3.7/multiprocessing/pool.py\", line 44, in mapstar\n",
      "    return list(map(*args))\n",
      "  File \"/opt/apps/anaconda3/19.10.0/lib/python3.7/multiprocessing/pool.py\", line 44, in mapstar\n",
      "    return list(map(*args))\n",
      "  File \"/opt/apps/anaconda3/19.10.0/lib/python3.7/multiprocessing/pool.py\", line 44, in mapstar\n",
      "    return list(map(*args))\n",
      "  File \"/opt/apps/anaconda3/19.10.0/lib/python3.7/multiprocessing/pool.py\", line 44, in mapstar\n",
      "    return list(map(*args))\n",
      "  File \"/opt/apps/anaconda3/19.10.0/lib/python3.7/multiprocessing/pool.py\", line 44, in mapstar\n",
      "    return list(map(*args))\n",
      "  File \"/opt/apps/anaconda3/19.10.0/lib/python3.7/multiprocessing/pool.py\", line 44, in mapstar\n",
      "    return list(map(*args))\n",
      "  File \"<ipython-input-22-1c35bbf8acc4>\", line 20, in multi_core_asin_di\n",
      "    em_df['sum_{}'.format(i)] =  len(cleaned_review_small[(cleaned_review_small['reviewerID'] == user) & (cleaned_review_small['reviewTime'] < time) & (cleaned_review_small['asin'] == i)])\n",
      "  File \"/opt/apps/anaconda3/19.10.0/lib/python3.7/multiprocessing/pool.py\", line 44, in mapstar\n",
      "    return list(map(*args))\n",
      "  File \"<ipython-input-22-1c35bbf8acc4>\", line 20, in multi_core_asin_di\n",
      "    em_df['sum_{}'.format(i)] =  len(cleaned_review_small[(cleaned_review_small['reviewerID'] == user) & (cleaned_review_small['reviewTime'] < time) & (cleaned_review_small['asin'] == i)])\n",
      "  File \"<ipython-input-22-1c35bbf8acc4>\", line 20, in multi_core_asin_di\n",
      "    em_df['sum_{}'.format(i)] =  len(cleaned_review_small[(cleaned_review_small['reviewerID'] == user) & (cleaned_review_small['reviewTime'] < time) & (cleaned_review_small['asin'] == i)])\n",
      "  File \"/opt/apps/anaconda3/19.10.0/lib/python3.7/multiprocessing/pool.py\", line 44, in mapstar\n",
      "    return list(map(*args))\n",
      "  File \"/opt/apps/anaconda3/19.10.0/lib/python3.7/multiprocessing/pool.py\", line 44, in mapstar\n",
      "    return list(map(*args))\n",
      "  File \"/opt/apps/anaconda3/19.10.0/lib/python3.7/multiprocessing/pool.py\", line 44, in mapstar\n",
      "    return list(map(*args))\n",
      "  File \"/opt/apps/anaconda3/19.10.0/lib/python3.7/multiprocessing/pool.py\", line 44, in mapstar\n",
      "    return list(map(*args))\n",
      "  File \"<ipython-input-22-1c35bbf8acc4>\", line 20, in multi_core_asin_di\n",
      "    em_df['sum_{}'.format(i)] =  len(cleaned_review_small[(cleaned_review_small['reviewerID'] == user) & (cleaned_review_small['reviewTime'] < time) & (cleaned_review_small['asin'] == i)])\n",
      "  File \"<ipython-input-22-1c35bbf8acc4>\", line 20, in multi_core_asin_di\n",
      "    em_df['sum_{}'.format(i)] =  len(cleaned_review_small[(cleaned_review_small['reviewerID'] == user) & (cleaned_review_small['reviewTime'] < time) & (cleaned_review_small['asin'] == i)])\n",
      "  File \"pandas/_libs/hashtable_class_helper.pxi\", line 1607, in pandas._libs.hashtable.PyObjectHashTable.get_item\n",
      "  File \"/opt/apps/anaconda3/19.10.0/lib/python3.7/multiprocessing/pool.py\", line 44, in mapstar\n",
      "    return list(map(*args))\n",
      "  File \"/opt/apps/anaconda3/19.10.0/lib/python3.7/multiprocessing/pool.py\", line 44, in mapstar\n",
      "    return list(map(*args))\n",
      "  File \"<ipython-input-22-1c35bbf8acc4>\", line 20, in multi_core_asin_di\n",
      "    em_df['sum_{}'.format(i)] =  len(cleaned_review_small[(cleaned_review_small['reviewerID'] == user) & (cleaned_review_small['reviewTime'] < time) & (cleaned_review_small['asin'] == i)])\n",
      "  File \"<ipython-input-22-1c35bbf8acc4>\", line 20, in multi_core_asin_di\n",
      "    em_df['sum_{}'.format(i)] =  len(cleaned_review_small[(cleaned_review_small['reviewerID'] == user) & (cleaned_review_small['reviewTime'] < time) & (cleaned_review_small['asin'] == i)])\n",
      "  File \"<ipython-input-22-1c35bbf8acc4>\", line 20, in multi_core_asin_di\n",
      "    em_df['sum_{}'.format(i)] =  len(cleaned_review_small[(cleaned_review_small['reviewerID'] == user) & (cleaned_review_small['reviewTime'] < time) & (cleaned_review_small['asin'] == i)])\n",
      "  File \"<ipython-input-22-1c35bbf8acc4>\", line 20, in multi_core_asin_di\n",
      "    em_df['sum_{}'.format(i)] =  len(cleaned_review_small[(cleaned_review_small['reviewerID'] == user) & (cleaned_review_small['reviewTime'] < time) & (cleaned_review_small['asin'] == i)])\n",
      "  File \"pandas/_libs/hashtable_class_helper.pxi\", line 1607, in pandas._libs.hashtable.PyObjectHashTable.get_item\n",
      "  File \"<ipython-input-22-1c35bbf8acc4>\", line 20, in multi_core_asin_di\n",
      "    em_df['sum_{}'.format(i)] =  len(cleaned_review_small[(cleaned_review_small['reviewerID'] == user) & (cleaned_review_small['reviewTime'] < time) & (cleaned_review_small['asin'] == i)])\n",
      "  File \"<ipython-input-22-1c35bbf8acc4>\", line 20, in multi_core_asin_di\n",
      "    em_df['sum_{}'.format(i)] =  len(cleaned_review_small[(cleaned_review_small['reviewerID'] == user) & (cleaned_review_small['reviewTime'] < time) & (cleaned_review_small['asin'] == i)])\n",
      "  File \"<ipython-input-22-1c35bbf8acc4>\", line 20, in multi_core_asin_di\n",
      "    em_df['sum_{}'.format(i)] =  len(cleaned_review_small[(cleaned_review_small['reviewerID'] == user) & (cleaned_review_small['reviewTime'] < time) & (cleaned_review_small['asin'] == i)])\n",
      "  File \"<ipython-input-22-1c35bbf8acc4>\", line 20, in multi_core_asin_di\n",
      "    em_df['sum_{}'.format(i)] =  len(cleaned_review_small[(cleaned_review_small['reviewerID'] == user) & (cleaned_review_small['reviewTime'] < time) & (cleaned_review_small['asin'] == i)])\n",
      "  File \"<ipython-input-22-1c35bbf8acc4>\", line 20, in multi_core_asin_di\n",
      "    em_df['sum_{}'.format(i)] =  len(cleaned_review_small[(cleaned_review_small['reviewerID'] == user) & (cleaned_review_small['reviewTime'] < time) & (cleaned_review_small['asin'] == i)])\n",
      "  File \"<ipython-input-22-1c35bbf8acc4>\", line 20, in multi_core_asin_di\n",
      "    em_df['sum_{}'.format(i)] =  len(cleaned_review_small[(cleaned_review_small['reviewerID'] == user) & (cleaned_review_small['reviewTime'] < time) & (cleaned_review_small['asin'] == i)])\n",
      "  File \"<ipython-input-22-1c35bbf8acc4>\", line 20, in multi_core_asin_di\n",
      "    em_df['sum_{}'.format(i)] =  len(cleaned_review_small[(cleaned_review_small['reviewerID'] == user) & (cleaned_review_small['reviewTime'] < time) & (cleaned_review_small['asin'] == i)])\n",
      "  File \"/opt/apps/anaconda3/19.10.0/lib/python3.7/site-packages/pandas/core/ops/__init__.py\", line 1229, in wrapper\n",
      "    res = na_op(values, other)\n",
      "  File \"/opt/apps/anaconda3/19.10.0/lib/python3.7/site-packages/pandas/core/ops/__init__.py\", line 1229, in wrapper\n",
      "    res = na_op(values, other)\n",
      "  File \"/opt/apps/anaconda3/19.10.0/lib/python3.7/site-packages/pandas/core/ops/__init__.py\", line 1229, in wrapper\n",
      "    res = na_op(values, other)\n",
      "  File \"<ipython-input-22-1c35bbf8acc4>\", line 20, in multi_core_asin_di\n",
      "    em_df['sum_{}'.format(i)] =  len(cleaned_review_small[(cleaned_review_small['reviewerID'] == user) & (cleaned_review_small['reviewTime'] < time) & (cleaned_review_small['asin'] == i)])\n",
      "  File \"<ipython-input-22-1c35bbf8acc4>\", line 20, in multi_core_asin_di\n",
      "    em_df['sum_{}'.format(i)] =  len(cleaned_review_small[(cleaned_review_small['reviewerID'] == user) & (cleaned_review_small['reviewTime'] < time) & (cleaned_review_small['asin'] == i)])\n",
      "  File \"<ipython-input-22-1c35bbf8acc4>\", line 20, in multi_core_asin_di\n",
      "    em_df['sum_{}'.format(i)] =  len(cleaned_review_small[(cleaned_review_small['reviewerID'] == user) & (cleaned_review_small['reviewTime'] < time) & (cleaned_review_small['asin'] == i)])\n",
      "  File \"<ipython-input-22-1c35bbf8acc4>\", line 20, in multi_core_asin_di\n",
      "    em_df['sum_{}'.format(i)] =  len(cleaned_review_small[(cleaned_review_small['reviewerID'] == user) & (cleaned_review_small['reviewTime'] < time) & (cleaned_review_small['asin'] == i)])\n",
      "  File \"/opt/apps/anaconda3/19.10.0/lib/python3.7/site-packages/pandas/core/ops/__init__.py\", line 1229, in wrapper\n",
      "    res = na_op(values, other)\n",
      "  File \"/opt/apps/anaconda3/19.10.0/lib/python3.7/site-packages/pandas/core/ops/__init__.py\", line 1229, in wrapper\n",
      "    res = na_op(values, other)\n",
      "  File \"pandas/_libs/hashtable_class_helper.pxi\", line 1614, in pandas._libs.hashtable.PyObjectHashTable.get_item\n",
      "  File \"<ipython-input-22-1c35bbf8acc4>\", line 20, in multi_core_asin_di\n",
      "    em_df['sum_{}'.format(i)] =  len(cleaned_review_small[(cleaned_review_small['reviewerID'] == user) & (cleaned_review_small['reviewTime'] < time) & (cleaned_review_small['asin'] == i)])\n",
      "  File \"/opt/apps/anaconda3/19.10.0/lib/python3.7/site-packages/pandas/core/ops/__init__.py\", line 1229, in wrapper\n",
      "    res = na_op(values, other)\n",
      "  File \"<ipython-input-22-1c35bbf8acc4>\", line 20, in multi_core_asin_di\n",
      "    em_df['sum_{}'.format(i)] =  len(cleaned_review_small[(cleaned_review_small['reviewerID'] == user) & (cleaned_review_small['reviewTime'] < time) & (cleaned_review_small['asin'] == i)])\n",
      "  File \"/opt/apps/anaconda3/19.10.0/lib/python3.7/site-packages/pandas/core/ops/__init__.py\", line 1229, in wrapper\n",
      "    res = na_op(values, other)\n",
      "  File \"/opt/apps/anaconda3/19.10.0/lib/python3.7/site-packages/pandas/core/ops/__init__.py\", line 1229, in wrapper\n",
      "    res = na_op(values, other)\n",
      "  File \"/opt/apps/anaconda3/19.10.0/lib/python3.7/site-packages/pandas/core/ops/__init__.py\", line 1229, in wrapper\n",
      "    res = na_op(values, other)\n",
      "  File \"/opt/apps/anaconda3/19.10.0/lib/python3.7/site-packages/pandas/core/ops/__init__.py\", line 1229, in wrapper\n",
      "    res = na_op(values, other)\n",
      "  File \"pandas/_libs/hashtable_class_helper.pxi\", line 1614, in pandas._libs.hashtable.PyObjectHashTable.get_item\n",
      "  File \"/opt/apps/anaconda3/19.10.0/lib/python3.7/site-packages/pandas/core/ops/__init__.py\", line 1229, in wrapper\n",
      "    res = na_op(values, other)\n",
      "  File \"/opt/apps/anaconda3/19.10.0/lib/python3.7/site-packages/pandas/core/ops/__init__.py\", line 1229, in wrapper\n",
      "    res = na_op(values, other)\n",
      "  File \"/opt/apps/anaconda3/19.10.0/lib/python3.7/site-packages/pandas/core/ops/__init__.py\", line 1229, in wrapper\n",
      "    res = na_op(values, other)\n",
      "  File \"/opt/apps/anaconda3/19.10.0/lib/python3.7/site-packages/pandas/core/ops/__init__.py\", line 1229, in wrapper\n",
      "    res = na_op(values, other)\n",
      "  File \"/opt/apps/anaconda3/19.10.0/lib/python3.7/site-packages/pandas/core/ops/__init__.py\", line 1229, in wrapper\n",
      "    res = na_op(values, other)\n",
      "  File \"/opt/apps/anaconda3/19.10.0/lib/python3.7/site-packages/pandas/core/ops/__init__.py\", line 1091, in na_op\n",
      "    result = _comp_method_OBJECT_ARRAY(op, x, y)\n",
      "  File \"/opt/apps/anaconda3/19.10.0/lib/python3.7/site-packages/pandas/core/ops/__init__.py\", line 1229, in wrapper\n",
      "    res = na_op(values, other)\n",
      "  File \"/opt/apps/anaconda3/19.10.0/lib/python3.7/site-packages/pandas/core/ops/__init__.py\", line 1091, in na_op\n",
      "    result = _comp_method_OBJECT_ARRAY(op, x, y)\n",
      "  File \"/opt/apps/anaconda3/19.10.0/lib/python3.7/site-packages/pandas/core/ops/__init__.py\", line 1091, in na_op\n",
      "    result = _comp_method_OBJECT_ARRAY(op, x, y)\n",
      "  File \"/opt/apps/anaconda3/19.10.0/lib/python3.7/site-packages/pandas/core/frame.py\", line 3462, in __setitem__\n",
      "    indexer = convert_to_index_sliceable(self, key)\n",
      "  File \"/opt/apps/anaconda3/19.10.0/lib/python3.7/site-packages/pandas/core/ops/__init__.py\", line 1229, in wrapper\n",
      "    res = na_op(values, other)\n",
      "  File \"/opt/apps/anaconda3/19.10.0/lib/python3.7/site-packages/pandas/core/ops/__init__.py\", line 1238, in wrapper\n",
      "    res_values, index=self.index, name=res_name, dtype=\"bool\"\n",
      "  File \"/opt/apps/anaconda3/19.10.0/lib/python3.7/site-packages/pandas/core/frame.py\", line 3462, in __setitem__\n",
      "    indexer = convert_to_index_sliceable(self, key)\n",
      "  File \"/opt/apps/anaconda3/19.10.0/lib/python3.7/site-packages/pandas/core/ops/__init__.py\", line 1091, in na_op\n",
      "    result = _comp_method_OBJECT_ARRAY(op, x, y)\n",
      "KeyError: 'sum_078062369X'\n",
      "  File \"/opt/apps/anaconda3/19.10.0/lib/python3.7/site-packages/pandas/core/ops/__init__.py\", line 1091, in na_op\n",
      "    result = _comp_method_OBJECT_ARRAY(op, x, y)\n",
      "  File \"/opt/apps/anaconda3/19.10.0/lib/python3.7/site-packages/pandas/core/ops/__init__.py\", line 1301, in wrapper\n",
      "    other = fill_int(other) if is_other_int_dtype else fill_bool(other)\n",
      "  File \"/opt/apps/anaconda3/19.10.0/lib/python3.7/site-packages/pandas/core/ops/__init__.py\", line 1091, in na_op\n",
      "    result = _comp_method_OBJECT_ARRAY(op, x, y)\n",
      "  File \"/opt/apps/anaconda3/19.10.0/lib/python3.7/site-packages/pandas/core/ops/__init__.py\", line 1229, in wrapper\n",
      "    res = na_op(values, other)\n",
      "  File \"/opt/apps/anaconda3/19.10.0/lib/python3.7/site-packages/pandas/core/ops/__init__.py\", line 1091, in na_op\n",
      "    result = _comp_method_OBJECT_ARRAY(op, x, y)\n",
      "  File \"/opt/apps/anaconda3/19.10.0/lib/python3.7/site-packages/pandas/core/ops/__init__.py\", line 1091, in na_op\n",
      "    result = _comp_method_OBJECT_ARRAY(op, x, y)\n",
      "  File \"/opt/apps/anaconda3/19.10.0/lib/python3.7/site-packages/pandas/core/ops/__init__.py\", line 1091, in na_op\n",
      "    result = _comp_method_OBJECT_ARRAY(op, x, y)\n",
      "  File \"/opt/apps/anaconda3/19.10.0/lib/python3.7/site-packages/pandas/core/ops/__init__.py\", line 1091, in na_op\n",
      "    result = _comp_method_OBJECT_ARRAY(op, x, y)\n",
      "KeyError: 'sum_0780353994'\n",
      "  File \"/opt/apps/anaconda3/19.10.0/lib/python3.7/site-packages/pandas/core/ops/__init__.py\", line 1091, in na_op\n",
      "    result = _comp_method_OBJECT_ARRAY(op, x, y)\n",
      "  File \"/opt/apps/anaconda3/19.10.0/lib/python3.7/site-packages/pandas/core/ops/__init__.py\", line 1091, in na_op\n",
      "    result = _comp_method_OBJECT_ARRAY(op, x, y)\n",
      "  File \"/opt/apps/anaconda3/19.10.0/lib/python3.7/site-packages/pandas/core/ops/__init__.py\", line 1091, in na_op\n",
      "    result = _comp_method_OBJECT_ARRAY(op, x, y)\n",
      "  File \"/opt/apps/anaconda3/19.10.0/lib/python3.7/site-packages/pandas/core/ops/__init__.py\", line 1091, in na_op\n",
      "    result = _comp_method_OBJECT_ARRAY(op, x, y)\n",
      "  File \"/opt/apps/anaconda3/19.10.0/lib/python3.7/site-packages/pandas/core/ops/__init__.py\", line 1091, in na_op\n",
      "    result = _comp_method_OBJECT_ARRAY(op, x, y)\n",
      "  File \"/opt/apps/anaconda3/19.10.0/lib/python3.7/site-packages/pandas/core/ops/__init__.py\", line 1069, in _comp_method_OBJECT_ARRAY\n",
      "    result = libops.scalar_compare(x, y, op)\n",
      "  File \"/opt/apps/anaconda3/19.10.0/lib/python3.7/site-packages/pandas/core/ops/__init__.py\", line 1091, in na_op\n",
      "    result = _comp_method_OBJECT_ARRAY(op, x, y)\n",
      "  File \"/opt/apps/anaconda3/19.10.0/lib/python3.7/site-packages/pandas/core/ops/__init__.py\", line 1069, in _comp_method_OBJECT_ARRAY\n",
      "    result = libops.scalar_compare(x, y, op)\n",
      "  File \"/opt/apps/anaconda3/19.10.0/lib/python3.7/site-packages/pandas/core/ops/__init__.py\", line 1069, in _comp_method_OBJECT_ARRAY\n",
      "    result = libops.scalar_compare(x, y, op)\n",
      "  File \"/opt/apps/anaconda3/19.10.0/lib/python3.7/site-packages/pandas/core/series.py\", line 226, in __init__\n",
      "    dtype = self._validate_dtype(dtype)\n",
      "  File \"/opt/apps/anaconda3/19.10.0/lib/python3.7/site-packages/pandas/core/indexing.py\", line 2363, in convert_to_index_sliceable\n",
      "    if key in obj._data.items:\n",
      "  File \"/opt/apps/anaconda3/19.10.0/lib/python3.7/site-packages/pandas/core/ops/__init__.py\", line 1091, in na_op\n",
      "    result = _comp_method_OBJECT_ARRAY(op, x, y)\n",
      "  File \"/opt/apps/anaconda3/19.10.0/lib/python3.7/site-packages/pandas/core/ops/__init__.py\", line 1069, in _comp_method_OBJECT_ARRAY\n",
      "    result = libops.scalar_compare(x, y, op)\n",
      "  File \"/opt/apps/anaconda3/19.10.0/lib/python3.7/site-packages/pandas/core/indexing.py\", line 2363, in convert_to_index_sliceable\n",
      "    if key in obj._data.items:\n",
      "  File \"/opt/apps/anaconda3/19.10.0/lib/python3.7/site-packages/pandas/core/ops/__init__.py\", line 1069, in _comp_method_OBJECT_ARRAY\n",
      "    result = libops.scalar_compare(x, y, op)\n",
      "\n",
      "During handling of the above exception, another exception occurred:\n",
      "\n",
      "  File \"/opt/apps/anaconda3/19.10.0/lib/python3.7/site-packages/pandas/core/ops/__init__.py\", line 1287, in <lambda>\n",
      "    fill_bool = lambda x: x.fillna(False).astype(bool)\n",
      "  File \"/opt/apps/anaconda3/19.10.0/lib/python3.7/site-packages/pandas/core/ops/__init__.py\", line 1091, in na_op\n",
      "    result = _comp_method_OBJECT_ARRAY(op, x, y)\n",
      "  File \"/opt/apps/anaconda3/19.10.0/lib/python3.7/site-packages/pandas/core/ops/__init__.py\", line 1069, in _comp_method_OBJECT_ARRAY\n",
      "    result = libops.scalar_compare(x, y, op)\n",
      "  File \"/opt/apps/anaconda3/19.10.0/lib/python3.7/site-packages/pandas/core/ops/__init__.py\", line 1069, in _comp_method_OBJECT_ARRAY\n",
      "    result = libops.scalar_compare(x, y, op)\n",
      "  File \"/opt/apps/anaconda3/19.10.0/lib/python3.7/site-packages/pandas/core/ops/__init__.py\", line 1069, in _comp_method_OBJECT_ARRAY\n",
      "    result = libops.scalar_compare(x, y, op)\n",
      "  File \"/opt/apps/anaconda3/19.10.0/lib/python3.7/site-packages/pandas/core/ops/__init__.py\", line 1069, in _comp_method_OBJECT_ARRAY\n",
      "    result = libops.scalar_compare(x, y, op)\n",
      "\n",
      "During handling of the above exception, another exception occurred:\n",
      "\n",
      "  File \"/opt/apps/anaconda3/19.10.0/lib/python3.7/site-packages/pandas/core/ops/__init__.py\", line 1069, in _comp_method_OBJECT_ARRAY\n",
      "    result = libops.scalar_compare(x, y, op)\n",
      "  File \"/opt/apps/anaconda3/19.10.0/lib/python3.7/site-packages/pandas/core/ops/__init__.py\", line 1069, in _comp_method_OBJECT_ARRAY\n",
      "    result = libops.scalar_compare(x, y, op)\n",
      "  File \"/opt/apps/anaconda3/19.10.0/lib/python3.7/site-packages/pandas/core/ops/__init__.py\", line 1069, in _comp_method_OBJECT_ARRAY\n",
      "    result = libops.scalar_compare(x, y, op)\n",
      "  File \"/opt/apps/anaconda3/19.10.0/lib/python3.7/site-packages/pandas/core/ops/__init__.py\", line 1069, in _comp_method_OBJECT_ARRAY\n",
      "    result = libops.scalar_compare(x, y, op)\n",
      "  File \"/opt/apps/anaconda3/19.10.0/lib/python3.7/site-packages/pandas/core/ops/__init__.py\", line 1069, in _comp_method_OBJECT_ARRAY\n",
      "    result = libops.scalar_compare(x, y, op)\n",
      "  File \"/opt/apps/anaconda3/19.10.0/lib/python3.7/site-packages/pandas/core/ops/__init__.py\", line 1069, in _comp_method_OBJECT_ARRAY\n",
      "    result = libops.scalar_compare(x, y, op)\n",
      "  File \"/opt/apps/anaconda3/19.10.0/lib/python3.7/site-packages/pandas/core/ops/__init__.py\", line 1069, in _comp_method_OBJECT_ARRAY\n",
      "    result = libops.scalar_compare(x, y, op)\n",
      "KeyboardInterrupt\n",
      "KeyboardInterrupt\n",
      "KeyboardInterrupt\n",
      "  File \"/opt/apps/anaconda3/19.10.0/lib/python3.7/site-packages/pandas/core/ops/__init__.py\", line 1069, in _comp_method_OBJECT_ARRAY\n",
      "    result = libops.scalar_compare(x, y, op)\n",
      "  File \"/opt/apps/anaconda3/19.10.0/lib/python3.7/site-packages/pandas/core/generic.py\", line 231, in _validate_dtype\n",
      "    dtype = pandas_dtype(dtype)\n",
      "  File \"/opt/apps/anaconda3/19.10.0/lib/python3.7/site-packages/pandas/core/indexes/base.py\", line 4232, in __contains__\n",
      "    return key in self._engine\n",
      "KeyboardInterrupt\n",
      "  File \"/opt/apps/anaconda3/19.10.0/lib/python3.7/site-packages/pandas/core/indexes/base.py\", line 4232, in __contains__\n",
      "    return key in self._engine\n",
      "KeyboardInterrupt\n",
      "  File \"/opt/apps/anaconda3/19.10.0/lib/python3.7/site-packages/pandas/core/ops/__init__.py\", line 1069, in _comp_method_OBJECT_ARRAY\n",
      "    result = libops.scalar_compare(x, y, op)\n",
      "Traceback (most recent call last):\n",
      "  File \"/opt/apps/anaconda3/19.10.0/lib/python3.7/site-packages/pandas/core/series.py\", line 4345, in fillna\n",
      "    **kwargs\n",
      "KeyboardInterrupt\n",
      "KeyboardInterrupt\n",
      "KeyboardInterrupt\n",
      "KeyboardInterrupt\n",
      "Traceback (most recent call last):\n",
      "KeyboardInterrupt\n",
      "KeyboardInterrupt\n",
      "KeyboardInterrupt\n",
      "KeyboardInterrupt\n",
      "KeyboardInterrupt\n",
      "KeyboardInterrupt\n",
      "KeyboardInterrupt\n",
      "KeyboardInterrupt\n",
      "KeyboardInterrupt\n",
      "  File \"/opt/apps/anaconda3/19.10.0/lib/python3.7/site-packages/pandas/core/dtypes/common.py\", line 2043, in pandas_dtype\n",
      "    result = registry.find(dtype)\n",
      "KeyboardInterrupt\n",
      "KeyboardInterrupt\n",
      "  File \"/opt/apps/anaconda3/19.10.0/lib/python3.7/site-packages/pandas/core/generic.py\", line 6258, in fillna\n",
      "    value=value, limit=limit, inplace=inplace, downcast=downcast\n",
      "  File \"/opt/apps/anaconda3/19.10.0/lib/python3.7/site-packages/pandas/core/internals/managers.py\", line 1069, in set\n",
      "    loc = self.items.get_loc(item)\n",
      "  File \"/opt/apps/anaconda3/19.10.0/lib/python3.7/site-packages/pandas/core/internals/managers.py\", line 1069, in set\n",
      "    loc = self.items.get_loc(item)\n",
      "  File \"/opt/apps/anaconda3/19.10.0/lib/python3.7/site-packages/pandas/core/dtypes/dtypes.py\", line 104, in find\n",
      "    for dtype_type in self.dtypes:\n",
      "  File \"/opt/apps/anaconda3/19.10.0/lib/python3.7/site-packages/pandas/core/indexes/base.py\", line 2899, in get_loc\n",
      "    return self._engine.get_loc(self._maybe_cast_indexer(key))\n",
      "  File \"/opt/apps/anaconda3/19.10.0/lib/python3.7/site-packages/pandas/core/internals/managers.py\", line 575, in fillna\n",
      "    return self.apply(\"fillna\", **kwargs)\n",
      "  File \"/opt/apps/anaconda3/19.10.0/lib/python3.7/site-packages/pandas/core/indexes/base.py\", line 2899, in get_loc\n",
      "    return self._engine.get_loc(self._maybe_cast_indexer(key))\n",
      "  File \"/opt/apps/anaconda3/19.10.0/lib/python3.7/site-packages/pandas/core/internals/managers.py\", line 438, in apply\n",
      "    applied = getattr(b, f)(**kwargs)\n",
      "  File \"pandas/_libs/index.pyx\", line 107, in pandas._libs.index.IndexEngine.get_loc\n",
      "KeyboardInterrupt\n",
      "  File \"pandas/_libs/index.pyx\", line 107, in pandas._libs.index.IndexEngine.get_loc\n",
      "  File \"/opt/apps/anaconda3/19.10.0/lib/python3.7/site-packages/pandas/core/internals/blocks.py\", line 418, in fillna\n",
      "    return self.copy()\n",
      "  File \"pandas/_libs/index.pyx\", line 131, in pandas._libs.index.IndexEngine.get_loc\n",
      "  File \"pandas/_libs/index.pyx\", line 131, in pandas._libs.index.IndexEngine.get_loc\n",
      "  File \"/opt/apps/anaconda3/19.10.0/lib/python3.7/site-packages/pandas/core/internals/blocks.py\", line 772, in copy\n",
      "    values = values.copy()\n",
      "  File \"pandas/_libs/hashtable_class_helper.pxi\", line 1607, in pandas._libs.hashtable.PyObjectHashTable.get_item\n",
      "  File \"pandas/_libs/hashtable_class_helper.pxi\", line 1607, in pandas._libs.hashtable.PyObjectHashTable.get_item\n",
      "KeyboardInterrupt\n",
      "  File \"pandas/_libs/hashtable_class_helper.pxi\", line 1614, in pandas._libs.hashtable.PyObjectHashTable.get_item\n",
      "  File \"pandas/_libs/hashtable_class_helper.pxi\", line 1614, in pandas._libs.hashtable.PyObjectHashTable.get_item\n",
      "KeyError: 'sum_078062369X'\n",
      "KeyError: 'sum_0780353994'\n",
      "\n",
      "During handling of the above exception, another exception occurred:\n",
      "\n",
      "\n",
      "During handling of the above exception, another exception occurred:\n",
      "\n",
      "Traceback (most recent call last):\n",
      "Traceback (most recent call last):\n",
      "  File \"/opt/apps/anaconda3/19.10.0/lib/python3.7/multiprocessing/process.py\", line 297, in _bootstrap\n",
      "    self.run()\n",
      "  File \"/opt/apps/anaconda3/19.10.0/lib/python3.7/multiprocessing/process.py\", line 297, in _bootstrap\n",
      "    self.run()\n",
      "  File \"/opt/apps/anaconda3/19.10.0/lib/python3.7/multiprocessing/process.py\", line 99, in run\n",
      "    self._target(*self._args, **self._kwargs)\n",
      "  File \"/opt/apps/anaconda3/19.10.0/lib/python3.7/multiprocessing/process.py\", line 99, in run\n",
      "    self._target(*self._args, **self._kwargs)\n",
      "  File \"/opt/apps/anaconda3/19.10.0/lib/python3.7/multiprocessing/pool.py\", line 121, in worker\n",
      "    result = (True, func(*args, **kwds))\n",
      "  File \"/opt/apps/anaconda3/19.10.0/lib/python3.7/multiprocessing/pool.py\", line 121, in worker\n",
      "    result = (True, func(*args, **kwds))\n",
      "  File \"/opt/apps/anaconda3/19.10.0/lib/python3.7/multiprocessing/pool.py\", line 44, in mapstar\n",
      "    return list(map(*args))\n",
      "  File \"/opt/apps/anaconda3/19.10.0/lib/python3.7/multiprocessing/pool.py\", line 44, in mapstar\n",
      "    return list(map(*args))\n",
      "  File \"<ipython-input-22-1c35bbf8acc4>\", line 20, in multi_core_asin_di\n",
      "    em_df['sum_{}'.format(i)] =  len(cleaned_review_small[(cleaned_review_small['reviewerID'] == user) & (cleaned_review_small['reviewTime'] < time) & (cleaned_review_small['asin'] == i)])\n",
      "  File \"<ipython-input-22-1c35bbf8acc4>\", line 20, in multi_core_asin_di\n",
      "    em_df['sum_{}'.format(i)] =  len(cleaned_review_small[(cleaned_review_small['reviewerID'] == user) & (cleaned_review_small['reviewTime'] < time) & (cleaned_review_small['asin'] == i)])\n",
      "  File \"/opt/apps/anaconda3/19.10.0/lib/python3.7/site-packages/pandas/core/frame.py\", line 3472, in __setitem__\n",
      "    self._set_item(key, value)\n",
      "  File \"/opt/apps/anaconda3/19.10.0/lib/python3.7/site-packages/pandas/core/frame.py\", line 3472, in __setitem__\n",
      "    self._set_item(key, value)\n",
      "  File \"/opt/apps/anaconda3/19.10.0/lib/python3.7/site-packages/pandas/core/frame.py\", line 3550, in _set_item\n",
      "    NDFrame._set_item(self, key, value)\n",
      "  File \"/opt/apps/anaconda3/19.10.0/lib/python3.7/site-packages/pandas/core/frame.py\", line 3550, in _set_item\n",
      "    NDFrame._set_item(self, key, value)\n",
      "  File \"/opt/apps/anaconda3/19.10.0/lib/python3.7/site-packages/pandas/core/generic.py\", line 3381, in _set_item\n",
      "    self._data.set(key, value)\n",
      "  File \"/opt/apps/anaconda3/19.10.0/lib/python3.7/site-packages/pandas/core/generic.py\", line 3381, in _set_item\n",
      "    self._data.set(key, value)\n",
      "  File \"/opt/apps/anaconda3/19.10.0/lib/python3.7/site-packages/pandas/core/internals/managers.py\", line 1072, in set\n",
      "    self.insert(len(self.items), item, value)\n",
      "  File \"/opt/apps/anaconda3/19.10.0/lib/python3.7/site-packages/pandas/core/internals/managers.py\", line 1072, in set\n",
      "    self.insert(len(self.items), item, value)\n",
      "  File \"/opt/apps/anaconda3/19.10.0/lib/python3.7/site-packages/pandas/core/internals/managers.py\", line 1179, in insert\n",
      "    new_axis = self.items.insert(loc, item)\n",
      "  File \"/opt/apps/anaconda3/19.10.0/lib/python3.7/site-packages/pandas/core/internals/managers.py\", line 1179, in insert\n",
      "    new_axis = self.items.insert(loc, item)\n",
      "  File \"/opt/apps/anaconda3/19.10.0/lib/python3.7/site-packages/pandas/core/indexes/base.py\", line 5311, in insert\n",
      "    item = self._coerce_scalar_to_index(item)._ndarray_values\n",
      "  File \"/opt/apps/anaconda3/19.10.0/lib/python3.7/site-packages/pandas/core/indexes/base.py\", line 5312, in insert\n",
      "    idx = np.concatenate((_self[:loc], item, _self[loc:]))\n",
      "  File \"<__array_function__ internals>\", line 6, in concatenate\n",
      "  File \"/opt/apps/anaconda3/19.10.0/lib/python3.7/site-packages/pandas/core/indexes/base.py\", line 4157, in _coerce_scalar_to_index\n",
      "    return Index([item], dtype=dtype, **self._get_attributes_dict())\n",
      "  File \"/opt/apps/anaconda3/19.10.0/lib/python3.7/site-packages/pandas/core/indexes/base.py\", line 366, in __new__\n",
      "    elif is_period_dtype(data) and not is_object_dtype(dtype):\n",
      "KeyboardInterrupt\n",
      "  File \"/opt/apps/anaconda3/19.10.0/lib/python3.7/site-packages/pandas/core/dtypes/common.py\", line 639, in is_period_dtype\n",
      "    return PeriodDtype.is_dtype(arr_or_dtype)\n",
      "  File \"/opt/apps/anaconda3/19.10.0/lib/python3.7/site-packages/pandas/core/dtypes/dtypes.py\", line 932, in is_dtype\n",
      "    return super().is_dtype(dtype)\n",
      "  File \"/opt/apps/anaconda3/19.10.0/lib/python3.7/site-packages/pandas/core/dtypes/base.py\", line 256, in is_dtype\n",
      "    if isinstance(dtype, (ABCSeries, ABCIndexClass, ABCDataFrame, np.dtype)):\n",
      "  File \"/opt/apps/anaconda3/19.10.0/lib/python3.7/site-packages/pandas/core/dtypes/generic.py\", line 9, in _check\n",
      "    return getattr(inst, attr, \"_typ\") in comp\n",
      "KeyboardInterrupt\n"
     ]
    }
   ],
   "source": [
    "# start demo with 24 reviewer = 1/24/2020 1pm 30min,  124368 unique products,\n",
    "# need to check again with individual level and asin_index is correct or not.\n",
    "%%time\n",
    "asin_analysis_df = parallelize(clean_id_time_dd.head(24), multi_core_asin_di)"
   ]
  },
  {
   "cell_type": "markdown",
   "metadata": {},
   "source": [
    "# Interpretation"
   ]
  },
  {
   "cell_type": "code",
   "execution_count": 68,
   "metadata": {},
   "outputs": [
    {
     "data": {
      "text/plain": [
       "280.1666666666667"
      ]
     },
     "execution_count": 68,
     "metadata": {},
     "output_type": "execute_result"
    }
   ],
   "source": [
    "# Reviewer / 24 hours\n",
    "6724/24"
   ]
  },
  {
   "cell_type": "code",
   "execution_count": 71,
   "metadata": {},
   "outputs": [
    {
     "data": {
      "text/plain": [
       "35.0"
      ]
     },
     "execution_count": 71,
     "metadata": {},
     "output_type": "execute_result"
    }
   ],
   "source": [
    "# requried days for computation\n",
    "280 * 3 /24\n",
    "# 35 days requires for this computation"
   ]
  },
  {
   "cell_type": "markdown",
   "metadata": {},
   "source": [
    "* To get the product level diversity in all reviewers requires more than 1 months stop it in here.\n",
    "* The solution may using gpu, larger memory in HPC; however, I already got the category level diveristy so that stop it here. it is just for the general public"
   ]
  }
 ],
 "metadata": {
  "kernelspec": {
   "display_name": "Python 3",
   "language": "python",
   "name": "python3"
  },
  "language_info": {
   "codemirror_mode": {
    "name": "ipython",
    "version": 3
   },
   "file_extension": ".py",
   "mimetype": "text/x-python",
   "name": "python",
   "nbconvert_exporter": "python",
   "pygments_lexer": "ipython3",
   "version": "3.7.6"
  }
 },
 "nbformat": 4,
 "nbformat_minor": 4
}
