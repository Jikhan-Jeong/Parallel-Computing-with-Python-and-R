{
  "nbformat": 4,
  "nbformat_minor": 0,
  "metadata": {
    "colab": {
      "name": "# Oct 4, 2019 Dask.ipynb",
      "provenance": [],
      "toc_visible": true,
      "include_colab_link": true
    },
    "kernelspec": {
      "name": "python3",
      "display_name": "Python 3"
    },
    "accelerator": "GPU"
  },
  "cells": [
    {
      "cell_type": "markdown",
      "metadata": {
        "id": "view-in-github",
        "colab_type": "text"
      },
      "source": [
        "<a href=\"https://colab.research.google.com/github/jikhans/Parallel-Computing-with-Python-and-R/blob/master/_Oct_4%2C_2019_Dask.ipynb\" target=\"_parent\"><img src=\"https://colab.research.google.com/assets/colab-badge.svg\" alt=\"Open In Colab\"/></a>"
      ]
    },
    {
      "cell_type": "markdown",
      "metadata": {
        "id": "CAiau-2HrUaX",
        "colab_type": "text"
      },
      "source": [
        "# Oct 4, 2019 Dask\n",
        "* name: Jikhan Jeong\n",
        "* ref: https://towardsdatascience.com/trying-out-dask-dataframes-in-python-for-fast-data-analysis-in-parallel-aa960c18a915\n",
        "* ref: github: https://github.com/StrikingLoo/dask-dataframe-benchmarking\n",
        "\n",
        "* Arithmetic operations (multiplying or adding to a Series)\n",
        "* Common aggregations (mean, min, max, sum, etc.)\n",
        "* Calling apply (as long as it’s along the index -that is, not after a \n",
        "* groupby(‘y’) where ‘y’ is not the index-)\n",
        "* Calling value_counts(), drop_duplicates() or corr()\n",
        "* Filtering with loc, isin, and row-wise selection"
      ]
    },
    {
      "cell_type": "code",
      "metadata": {
        "id": "xWr4gfAerJUx",
        "colab_type": "code",
        "colab": {}
      },
      "source": [
        "import dask.dataframe as ddf\n",
        "import time\n",
        "import pandas as pd"
      ],
      "execution_count": 0,
      "outputs": []
    },
    {
      "cell_type": "markdown",
      "metadata": {
        "id": "1s1oFYT2ubJj",
        "colab_type": "text"
      },
      "source": [
        "# Dask Dataframe"
      ]
    },
    {
      "cell_type": "code",
      "metadata": {
        "id": "Ge1NAg1lteOd",
        "colab_type": "code",
        "colab": {}
      },
      "source": [
        "df = ddf.read_csv('random_people.csv')\n",
        "df['bonus'] = df['salary']*.5\n",
        "df = df.drop('Unnamed: 0', axis=1)"
      ],
      "execution_count": 0,
      "outputs": []
    },
    {
      "cell_type": "code",
      "metadata": {
        "id": "tnJdmK0EthAb",
        "colab_type": "code",
        "colab": {
          "base_uri": "https://localhost:8080/",
          "height": 108
        },
        "outputId": "54b8e95b-fc78-4209-99fd-35c60b1fddff"
      },
      "source": [
        "df.head(2)"
      ],
      "execution_count": 10,
      "outputs": [
        {
          "output_type": "execute_result",
          "data": {
            "text/html": [
              "<div>\n",
              "<style scoped>\n",
              "    .dataframe tbody tr th:only-of-type {\n",
              "        vertical-align: middle;\n",
              "    }\n",
              "\n",
              "    .dataframe tbody tr th {\n",
              "        vertical-align: top;\n",
              "    }\n",
              "\n",
              "    .dataframe thead th {\n",
              "        text-align: right;\n",
              "    }\n",
              "</style>\n",
              "<table border=\"1\" class=\"dataframe\">\n",
              "  <thead>\n",
              "    <tr style=\"text-align: right;\">\n",
              "      <th></th>\n",
              "      <th>name</th>\n",
              "      <th>surname</th>\n",
              "      <th>salary</th>\n",
              "      <th>bonus</th>\n",
              "    </tr>\n",
              "  </thead>\n",
              "  <tbody>\n",
              "    <tr>\n",
              "      <th>0</th>\n",
              "      <td>Henry</td>\n",
              "      <td>Joneson</td>\n",
              "      <td>5000</td>\n",
              "      <td>2500.0</td>\n",
              "    </tr>\n",
              "    <tr>\n",
              "      <th>1</th>\n",
              "      <td>Albert</td>\n",
              "      <td>Goodman</td>\n",
              "      <td>10000</td>\n",
              "      <td>5000.0</td>\n",
              "    </tr>\n",
              "  </tbody>\n",
              "</table>\n",
              "</div>"
            ],
            "text/plain": [
              "     name  surname  salary   bonus\n",
              "0   Henry  Joneson    5000  2500.0\n",
              "1  Albert  Goodman   10000  5000.0"
            ]
          },
          "metadata": {
            "tags": []
          },
          "execution_count": 10
        }
      ]
    },
    {
      "cell_type": "markdown",
      "metadata": {
        "id": "jYWnioysueYt",
        "colab_type": "text"
      },
      "source": [
        "# Pandas Dataframe"
      ]
    },
    {
      "cell_type": "code",
      "metadata": {
        "id": "PI5uQRPztj3m",
        "colab_type": "code",
        "colab": {}
      },
      "source": [
        "df_old = pd.read_csv('random_people.csv')"
      ],
      "execution_count": 0,
      "outputs": []
    },
    {
      "cell_type": "code",
      "metadata": {
        "id": "zx4veqW8tos4",
        "colab_type": "code",
        "colab": {}
      },
      "source": [
        "df_old['bonus'] = df_old['salary']*.5\n",
        "df_old = df_old.drop('Unnamed: 0', axis=1)"
      ],
      "execution_count": 0,
      "outputs": []
    },
    {
      "cell_type": "code",
      "metadata": {
        "id": "__7wn6_tuWnP",
        "colab_type": "code",
        "colab": {
          "base_uri": "https://localhost:8080/",
          "height": 108
        },
        "outputId": "a7a1c908-7ded-4a12-9609-fce735d5aea0"
      },
      "source": [
        "df_old.head(2)"
      ],
      "execution_count": 13,
      "outputs": [
        {
          "output_type": "execute_result",
          "data": {
            "text/html": [
              "<div>\n",
              "<style scoped>\n",
              "    .dataframe tbody tr th:only-of-type {\n",
              "        vertical-align: middle;\n",
              "    }\n",
              "\n",
              "    .dataframe tbody tr th {\n",
              "        vertical-align: top;\n",
              "    }\n",
              "\n",
              "    .dataframe thead th {\n",
              "        text-align: right;\n",
              "    }\n",
              "</style>\n",
              "<table border=\"1\" class=\"dataframe\">\n",
              "  <thead>\n",
              "    <tr style=\"text-align: right;\">\n",
              "      <th></th>\n",
              "      <th>name</th>\n",
              "      <th>surname</th>\n",
              "      <th>salary</th>\n",
              "      <th>bonus</th>\n",
              "    </tr>\n",
              "  </thead>\n",
              "  <tbody>\n",
              "    <tr>\n",
              "      <th>0</th>\n",
              "      <td>Henry</td>\n",
              "      <td>Joneson</td>\n",
              "      <td>5000</td>\n",
              "      <td>2500.0</td>\n",
              "    </tr>\n",
              "    <tr>\n",
              "      <th>1</th>\n",
              "      <td>Albert</td>\n",
              "      <td>Goodman</td>\n",
              "      <td>10000</td>\n",
              "      <td>5000.0</td>\n",
              "    </tr>\n",
              "  </tbody>\n",
              "</table>\n",
              "</div>"
            ],
            "text/plain": [
              "     name  surname  salary   bonus\n",
              "0   Henry  Joneson    5000  2500.0\n",
              "1  Albert  Goodman   10000  5000.0"
            ]
          },
          "metadata": {
            "tags": []
          },
          "execution_count": 13
        }
      ]
    },
    {
      "cell_type": "code",
      "metadata": {
        "id": "eSRsHihUuZL2",
        "colab_type": "code",
        "colab": {}
      },
      "source": [
        "def benchmark(function, function_name):\n",
        "    start = time.time()\n",
        "    function()\n",
        "    end = time.time()\n",
        "    print(\"{0} seconds for {1}\".format((end - start), function_name))"
      ],
      "execution_count": 0,
      "outputs": []
    },
    {
      "cell_type": "code",
      "metadata": {
        "id": "PwiCjgg0ulzX",
        "colab_type": "code",
        "colab": {}
      },
      "source": [
        "def get_bonus(df):\n",
        "    df['bonus'] = df['salary']*.7"
      ],
      "execution_count": 0,
      "outputs": []
    },
    {
      "cell_type": "code",
      "metadata": {
        "id": "6vam2S0quvZj",
        "colab_type": "code",
        "colab": {}
      },
      "source": [
        "def test_1():\n",
        "    get_bonus(df) # dask \n",
        "def test_2():\n",
        "    get_bonus(df_old) # non-dask"
      ],
      "execution_count": 0,
      "outputs": []
    },
    {
      "cell_type": "code",
      "metadata": {
        "id": "ihTfhWqUu1oz",
        "colab_type": "code",
        "colab": {
          "base_uri": "https://localhost:8080/",
          "height": 54
        },
        "outputId": "071c1393-1094-4dcd-e311-0bb31dcbc793"
      },
      "source": [
        "benchmark(test_1, 'dataframe with dask')\n",
        "benchmark(test_2, 'dataframe without dask')"
      ],
      "execution_count": 17,
      "outputs": [
        {
          "output_type": "stream",
          "text": [
            "0.004058837890625 seconds for dataframe with dask\n",
            "0.0005838871002197266 seconds for dataframe without dask\n"
          ],
          "name": "stdout"
        }
      ]
    },
    {
      "cell_type": "code",
      "metadata": {
        "id": "gIYk5FsEu7oi",
        "colab_type": "code",
        "colab": {}
      },
      "source": [
        "df_old2 = pd.concat([df_old for _ in range(1000)])\n",
        "df_old3 = pd.concat([df_old2 for _ in range(500)])"
      ],
      "execution_count": 0,
      "outputs": []
    },
    {
      "cell_type": "code",
      "metadata": {
        "id": "o9uGAXA5vQd_",
        "colab_type": "code",
        "colab": {
          "base_uri": "https://localhost:8080/",
          "height": 35
        },
        "outputId": "0b106119-1d4b-441f-e5d4-f26d96101fcc"
      },
      "source": [
        "df_old3.shape"
      ],
      "execution_count": 20,
      "outputs": [
        {
          "output_type": "execute_result",
          "data": {
            "text/plain": [
              "(25000000, 4)"
            ]
          },
          "metadata": {
            "tags": []
          },
          "execution_count": 20
        }
      ]
    },
    {
      "cell_type": "markdown",
      "metadata": {
        "id": "aD8qIDbavrzO",
        "colab_type": "text"
      },
      "source": [
        "# Check the number of cores"
      ]
    },
    {
      "cell_type": "code",
      "metadata": {
        "id": "6hZlMbZUvqRQ",
        "colab_type": "code",
        "colab": {
          "base_uri": "https://localhost:8080/",
          "height": 35
        },
        "outputId": "6f4a3aa4-ce9a-44de-cee3-271f25101e1f"
      },
      "source": [
        "import multiprocessing\n",
        "multiprocessing.cpu_count()"
      ],
      "execution_count": 23,
      "outputs": [
        {
          "output_type": "execute_result",
          "data": {
            "text/plain": [
              "2"
            ]
          },
          "metadata": {
            "tags": []
          },
          "execution_count": 23
        }
      ]
    },
    {
      "cell_type": "markdown",
      "metadata": {
        "id": "4dOCK2xAvxYs",
        "colab_type": "text"
      },
      "source": [
        "# Transform Pandas Dataframe to Dask Dataframe"
      ]
    },
    {
      "cell_type": "code",
      "metadata": {
        "id": "Y8SxnhNnvU1B",
        "colab_type": "code",
        "colab": {}
      },
      "source": [
        "ddf_big = ddf.from_pandas(df_old3, npartitions=2) # number of partition = # of core"
      ],
      "execution_count": 0,
      "outputs": []
    },
    {
      "cell_type": "markdown",
      "metadata": {
        "id": "iXXBiuxSwBrK",
        "colab_type": "text"
      },
      "source": [
        "# Compare the performance\n",
        "* Pandas big dataframe : df_old3\n",
        "* Dask big data frame L ddf_big"
      ]
    },
    {
      "cell_type": "code",
      "metadata": {
        "id": "w3ockljUvgki",
        "colab_type": "code",
        "colab": {}
      },
      "source": [
        "def test_big():\n",
        "    get_bonus(ddf_big)\n",
        "def test_big_old():\n",
        "    get_bonus(df_old3)\n",
        "\n",
        "def get_big_mean():\n",
        "    return ddf_big.salary.mean().compute()\n",
        "def get_big_mean_old():\n",
        "    return  df_old3.salary.mean()\n",
        "\n",
        "def get_big_max():\n",
        "    return ddf_big.salary.max().compute()\n",
        "def get_big_max_old():\n",
        "    return  df_old3.salary.max()\n",
        "\n",
        "def get_big_sum():\n",
        "    return ddf_big.salary.sum().compute()\n",
        "def get_big_sum_old():\n",
        "    return  df_old3.salary.sum()\n",
        "\n",
        "def filter_df():\n",
        "    df = ddf_big[ddf_big['salary']>5000]\n",
        "def filter_df_old():\n",
        "    df =  df_old3[ df_old3['salary']>5000]\n",
        "    \n",
        "def run_benchmarks():\n",
        "    for i,f in enumerate([test_big, #test_big_old,\n",
        "                          get_big_mean,# get_big_mean_old,\n",
        "                          get_big_max, #get_big_max_old,\n",
        "                          get_big_sum, #get_big_sum_old,\n",
        "                          filter_df,#filter_df_old\n",
        "                         ]):\n",
        "        benchmark(f, f.__name__)"
      ],
      "execution_count": 0,
      "outputs": []
    },
    {
      "cell_type": "code",
      "metadata": {
        "id": "uwu8a0WPwnZJ",
        "colab_type": "code",
        "colab": {}
      },
      "source": [
        "def f(x):\n",
        "    return (13*x+5)%7\n",
        "\n",
        "def apply_random_old():\n",
        "    df_old3['random']= df_old3['salary'].apply(f)\n",
        "    \n",
        "def apply_random():\n",
        "    ddf_big['random']= ddf_big['salary'].apply(f).compute()\n",
        "\n",
        "def value_count_test():\n",
        "    ddf_big.salary.value_counts().compute()\n",
        "\n",
        "def value_count_test_old():\n",
        "    df_old3.salary.value_counts()"
      ],
      "execution_count": 0,
      "outputs": []
    },
    {
      "cell_type": "markdown",
      "metadata": {
        "id": "TRjK-WqmxK5v",
        "colab_type": "text"
      },
      "source": [
        "# Dask Performance"
      ]
    },
    {
      "cell_type": "code",
      "metadata": {
        "id": "w7Ehq-q2w79z",
        "colab_type": "code",
        "colab": {
          "base_uri": "https://localhost:8080/",
          "height": 108
        },
        "outputId": "698d9267-85e5-4e57-92a3-0d98fc783113"
      },
      "source": [
        "run_benchmarks()"
      ],
      "execution_count": 28,
      "outputs": [
        {
          "output_type": "stream",
          "text": [
            "0.006788492202758789 seconds for test_big\n",
            "0.7481985092163086 seconds for get_big_mean\n",
            "0.6630303859710693 seconds for get_big_max\n",
            "0.6824014186859131 seconds for get_big_sum\n",
            "0.0032804012298583984 seconds for filter_df\n"
          ],
          "name": "stdout"
        }
      ]
    },
    {
      "cell_type": "markdown",
      "metadata": {
        "id": "7M8C-z6Wxajd",
        "colab_type": "text"
      },
      "source": [
        "# Dask"
      ]
    },
    {
      "cell_type": "code",
      "metadata": {
        "id": "7Na_8M_LxB_R",
        "colab_type": "code",
        "colab": {
          "base_uri": "https://localhost:8080/",
          "height": 183
        },
        "outputId": "14de20de-fbd2-4725-a79d-5790c3f3a064"
      },
      "source": [
        "benchmark(apply_random, apply_random.__name__)"
      ],
      "execution_count": 29,
      "outputs": [
        {
          "output_type": "stream",
          "text": [
            "/usr/local/lib/python3.6/dist-packages/dask/dataframe/core.py:2294: UserWarning: \n",
            "You did not provide metadata, so Dask is running your function on a small dataset to guess output types. It is possible that Dask will guess incorrectly.\n",
            "To provide an explicit output types or to silence this message, please provide the `meta=` keyword, as described in the map or apply function that you are using.\n",
            "  Before: .apply(func)\n",
            "  After:  .apply(func, meta=('salary', 'int64'))\n",
            "\n",
            "  warnings.warn(meta_warning(meta))\n"
          ],
          "name": "stderr"
        },
        {
          "output_type": "stream",
          "text": [
            "13.085474967956543 seconds for apply_random\n"
          ],
          "name": "stdout"
        }
      ]
    },
    {
      "cell_type": "code",
      "metadata": {
        "id": "9OOZliPSx2Z_",
        "colab_type": "code",
        "colab": {
          "base_uri": "https://localhost:8080/",
          "height": 35
        },
        "outputId": "5a2e0392-4af5-4732-a924-e445f3344098"
      },
      "source": [
        "benchmark(value_count_test, value_count_test.__name__)"
      ],
      "execution_count": 33,
      "outputs": [
        {
          "output_type": "stream",
          "text": [
            "1.3808255195617676 seconds for value_count_test\n"
          ],
          "name": "stdout"
        }
      ]
    },
    {
      "cell_type": "markdown",
      "metadata": {
        "id": "xPDOUxIexfsy",
        "colab_type": "text"
      },
      "source": [
        "# Pandas"
      ]
    },
    {
      "cell_type": "code",
      "metadata": {
        "id": "VFGSaT2bxR1x",
        "colab_type": "code",
        "colab": {
          "base_uri": "https://localhost:8080/",
          "height": 35
        },
        "outputId": "bb62c3df-73e0-4c73-a6e4-be467980e30f"
      },
      "source": [
        "benchmark(apply_random_old, apply_random_old.__name__)"
      ],
      "execution_count": 30,
      "outputs": [
        {
          "output_type": "stream",
          "text": [
            "10.283009767532349 seconds for apply_random_old\n"
          ],
          "name": "stdout"
        }
      ]
    },
    {
      "cell_type": "code",
      "metadata": {
        "id": "6cNbAHztxxBJ",
        "colab_type": "code",
        "colab": {
          "base_uri": "https://localhost:8080/",
          "height": 35
        },
        "outputId": "92e1d2ce-3d2e-4fc4-e1db-50b0bbc8619c"
      },
      "source": [
        "benchmark(value_count_test_old, value_count_test_old.__name__)"
      ],
      "execution_count": 32,
      "outputs": [
        {
          "output_type": "stream",
          "text": [
            "0.2420790195465088 seconds for value_count_test_old\n"
          ],
          "name": "stdout"
        }
      ]
    },
    {
      "cell_type": "code",
      "metadata": {
        "id": "23Nj85QHxzSB",
        "colab_type": "code",
        "colab": {}
      },
      "source": [
        ""
      ],
      "execution_count": 0,
      "outputs": []
    }
  ]
}